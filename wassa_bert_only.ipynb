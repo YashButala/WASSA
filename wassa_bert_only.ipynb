{
  "nbformat": 4,
  "nbformat_minor": 0,
  "metadata": {
    "accelerator": "GPU",
    "colab": {
      "name": "wassa_bert_only.ipynb",
      "provenance": [],
      "collapsed_sections": []
    },
    "kernelspec": {
      "display_name": "Python 3",
      "name": "python3"
    }
  },
  "cells": [
    {
      "cell_type": "code",
      "metadata": {
        "id": "CZVhLFvGZjIO"
      },
      "source": [
        "from google.colab import drive\n",
        "drive.mount('/content/drive/')"
      ],
      "execution_count": null,
      "outputs": []
    },
    {
      "cell_type": "code",
      "metadata": {
        "id": "i6TnskE9GyVL"
      },
      "source": [
        "PATH = \"/content/drive/MyDrive/WASSA\""
      ],
      "execution_count": null,
      "outputs": []
    },
    {
      "cell_type": "code",
      "metadata": {
        "id": "7eFgHtxQZx9R"
      },
      "source": [
        "import os\n",
        "import re\n",
        "from tqdm import tqdm\n",
        "import numpy as np\n",
        "import pandas as pd\n",
        "import matplotlib.pyplot as plt\n",
        "%matplotlib inline"
      ],
      "execution_count": null,
      "outputs": []
    },
    {
      "cell_type": "code",
      "metadata": {
        "id": "q3mzL5FfZzcs"
      },
      "source": [
        "dataset_folder = '/content/drive/MyDrive/WASSA/'\n",
        "destination_folder = '/content/drive/MyDrive/WASSA'"
      ],
      "execution_count": null,
      "outputs": []
    },
    {
      "cell_type": "code",
      "metadata": {
        "id": "jf27YzS9Z05e"
      },
      "source": [
        " # Load data and set labels\n",
        "test = pd.read_csv(dataset_folder+'test.tsv',sep='\\t')\n",
        "#print(data_val.shape)\n",
        "data_train = pd.read_csv(dataset_folder+'train.tsv',sep='\\t')\n",
        "data_val   = pd.read_csv(dataset_folder+'dev.tsv',sep='\\t')\n",
        "ground = pd.read_csv(dataset_folder+'/res/goldstandard.tsv',sep='\\t',names=[\"empathy\", \"distress\", 'emotion'])\n",
        "#ground = pd.read_csv('/content/drive/MyDrive/WASSA/res/goldstandard.tsv')\n",
        "# Display 5 random samples\n",
        "data_val.head()"
      ],
      "execution_count": null,
      "outputs": []
    },
    {
      "cell_type": "code",
      "metadata": {
        "id": "XFC5UAmyoVoC"
      },
      "source": [
        "train"
      ],
      "execution_count": null,
      "outputs": []
    },
    {
      "cell_type": "code",
      "metadata": {
        "id": "xM6UV0xd1H8U"
      },
      "source": [
        "data_val['empathy'] = ground['empathy']\r\n",
        "data_val['distress']= ground['distress']\r\n",
        "data_val['emotion'] = ground['emotion']"
      ],
      "execution_count": null,
      "outputs": []
    },
    {
      "cell_type": "markdown",
      "metadata": {
        "id": "5lxwqv19aCXs"
      },
      "source": [
        "data_train.sample()\n",
        "train = data_train[['distress','empathy','essay', 'gender','education', 'race', 'age','income', 'personality_conscientiousness', 'personality_openess', 'personality_extraversion', 'personality_agreeableness', 'personality_stability', 'iri_perspective_taking', 'iri_personal_distress', 'iri_fantasy', 'iri_empathatic_concern']]\n",
        "val = data_val[['distress','empathy','essay', 'gender','education', 'race', 'age','income', 'personality_conscientiousness', 'personality_openess', 'personality_extraversion', 'personality_agreeableness', 'personality_stability', 'iri_perspective_taking', 'iri_personal_distress', 'iri_fantasy', 'iri_empathatic_concern']]"
      ]
    },
    {
      "cell_type": "code",
      "metadata": {
        "id": "Sq19ulOQ2NRl"
      },
      "source": [
        "test"
      ],
      "execution_count": null,
      "outputs": []
    },
    {
      "cell_type": "code",
      "metadata": {
        "id": "B-ysVLwvaD0V"
      },
      "source": [
        "X_train, X_val, y_train, y_val = train.essay.values,val.essay.values,train.empathy.values,val.empathy.values\n",
        "print(X_train.shape)\n",
        "#X_t = np.vstack((train.education.values,train.age.values,train.income.values)).T\n",
        "#X_t = X_t.astype(np.float32)\n",
        "#for i in range(3):\n",
        "    # k = np.max(X_t[:,i])\n",
        "    \n",
        "    # print(k)\n",
        "    # X_t[:,i] = X_t[:,i]/np.float(k)\n",
        "#print(X_t.shape)\n",
        "#X_v = np.vstack((val.education.values,val.age.values,val.income.values)).T\n",
        "#X_v = X_v.astype(np.float32)\n",
        "#for i in range(3):\n",
        "    # k = np.max(X_v[:,i])\n",
        "    # print(k)\n",
        "    # X_v[:,i] = X_v[:,i]/np.float(k)\n",
        "#print(X_v.shape)\n",
        "#print(X_train.shape)"
      ],
      "execution_count": null,
      "outputs": []
    },
    {
      "cell_type": "code",
      "metadata": {
        "id": "k1i6n3gH20N2"
      },
      "source": [
        "print(X_train.shape, X_val.shape)"
      ],
      "execution_count": null,
      "outputs": []
    },
    {
      "cell_type": "code",
      "metadata": {
        "id": "nvT2c5SeaFWz"
      },
      "source": [
        "#X_test,y_test = test.essay.values,test.empathy.values\n",
        "#y_t = np.vstack((test.education.values,test.age.values,test.income.values)).T\n",
        "#y_t = y_t.astype(np.float32)\n",
        "#for i in range(3):\n",
        "#    k = np.max(y_t[:,i])\n",
        "#    # print(k)\n",
        "#    y_t[:,i] = y_t[:,i]/np.float(k)\n",
        "# print(y_t)\n"
      ],
      "execution_count": null,
      "outputs": []
    },
    {
      "cell_type": "code",
      "metadata": {
        "id": "0N5rhsyNaG2t"
      },
      "source": [
        "import torch\n",
        "\n",
        "if torch.cuda.is_available():       \n",
        "    device = torch.device(\"cuda\")\n",
        "    print(f'There are {torch.cuda.device_count()} GPU(s) available.')\n",
        "    print('Device name:', torch.cuda.get_device_name(0))\n",
        "\n",
        "else:\n",
        "    print('No GPU available, using the CPU instead.')\n",
        "    device = torch.device(\"cpu\")"
      ],
      "execution_count": null,
      "outputs": []
    },
    {
      "cell_type": "code",
      "metadata": {
        "id": "VqRNWMuoaI1M"
      },
      "source": [
        "!pip3 install transformers sentencepiece"
      ],
      "execution_count": null,
      "outputs": []
    },
    {
      "cell_type": "code",
      "metadata": {
        "id": "92F2oJHh761J"
      },
      "source": [
        "from transformers import AutoTokenizer, AutoModelWithLMHead, AutoModel"
      ],
      "execution_count": null,
      "outputs": []
    },
    {
      "cell_type": "code",
      "metadata": {
        "id": "5tYH9ThEaLEF"
      },
      "source": [
        "def text_preprocessing(text):\n",
        "    \"\"\"\n",
        "    - Remove entity mentions (eg. '@united')\n",
        "    - Correct errors (eg. '&amp;' to '&')\n",
        "    @param    text (str): a string to be processed.\n",
        "    @return   text (Str): the processed string.\n",
        "    \"\"\"\n",
        "    # Remove '@name'\n",
        "    text = re.sub(r'(@.*?)[\\s]', ' ', text)\n",
        "\n",
        "    # Replace '&amp;' with '&'\n",
        "    text = re.sub(r'&amp;', '&', text)\n",
        "\n",
        "    # Remove trailing whitespace\n",
        "    text = re.sub(r'\\s+', ' ', text).strip()\n",
        "\n",
        "    return text"
      ],
      "execution_count": null,
      "outputs": []
    },
    {
      "cell_type": "code",
      "metadata": {
        "id": "1kgS7i-2aOGm"
      },
      "source": [
        "# Print sentence 0\n",
        "print('Original: ', X_train[0])\n",
        "print('Processed: ', text_preprocessing(X_train[0]))"
      ],
      "execution_count": null,
      "outputs": []
    },
    {
      "cell_type": "code",
      "metadata": {
        "id": "vgzONmJmaOxM"
      },
      "source": [
        "from transformers import BertTokenizer\n",
        "\n",
        "# Load the BERT tokenizer\n",
        "tokenizer = AutoTokenizer.from_pretrained(\"bert-base-uncased\")\n",
        "\n",
        "# Create a function to tokenize a set of texts\n",
        "def preprocessing_for_bert(data):\n",
        "    \"\"\"Perform required preprocessing steps for pretrained BERT.\n",
        "    @param    data (np.array): Array of texts to be processed.\n",
        "    @return   input_ids (torch.Tensor): Tensor of token ids to be fed to a model.\n",
        "    @return   attention_masks (torch.Tensor): Tensor of indices specifying which\n",
        "                  tokens should be attended to by the model.\n",
        "    \"\"\"\n",
        "    # Create empty lists to store outputs\n",
        "    input_ids = []\n",
        "    attention_masks = []\n",
        "\n",
        "    # For every sentence...\n",
        "    for sent in data:\n",
        "        # `encode_plus` will:\n",
        "        #    (1) Tokenize the sentence\n",
        "        #    (2) Add the `[CLS]` and `[SEP]` token to the start and end\n",
        "        #    (3) Truncate/Pad sentence to max length\n",
        "        #    (4) Map tokens to their IDs\n",
        "        #    (5) Create attention mask\n",
        "        #    (6) Return a dictionary of outputs\n",
        "        encoded_sent = tokenizer.encode_plus(\n",
        "            text=text_preprocessing(sent),  # Preprocess sentence\n",
        "            add_special_tokens=True,        # Add `[CLS]` and `[SEP]`\n",
        "            max_length=MAX_LEN,                  # Max length to truncate/pad\n",
        "            pad_to_max_length=True,         # Pad sentence to max length\n",
        "            #return_tensors='pt',           # Return PyTorch tensor\n",
        "            return_attention_mask=True      # Return attention mask\n",
        "            )\n",
        "        \n",
        "        # Add the outputs to the lists\n",
        "        input_ids.append(encoded_sent.get('input_ids'))\n",
        "        attention_masks.append(encoded_sent.get('attention_mask'))\n",
        "\n",
        "    # Convert lists to tensors\n",
        "    input_ids = torch.tensor(input_ids)\n",
        "    attention_masks = torch.tensor(attention_masks)\n",
        "\n",
        "    return input_ids, attention_masks"
      ],
      "execution_count": null,
      "outputs": []
    },
    {
      "cell_type": "code",
      "metadata": {
        "id": "e2WjBExpaQWr"
      },
      "source": [
        "# Specify `MAX_LEN`\n",
        "MAX_LEN = 256\n",
        "\n",
        "# Print sentence 0 and its encoded token ids\n",
        "token_ids = list(preprocessing_for_bert([X_train[0]])[0].squeeze().numpy())\n",
        "print('Original: ', X_val[0])\n",
        "print('Token IDs: ', token_ids)\n",
        "\n",
        "# Run function `preprocessing_for_bert` on the train set and the validation set\n",
        "print('Tokenizing data...')\n",
        "train_inputs, train_masks = preprocessing_for_bert(X_train)\n",
        "val_inputs, val_masks = preprocessing_for_bert(X_val)"
      ],
      "execution_count": null,
      "outputs": []
    },
    {
      "cell_type": "code",
      "metadata": {
        "id": "5KIOiDhiaS3u"
      },
      "source": [
        "from torch.utils.data import TensorDataset, DataLoader, RandomSampler, SequentialSampler\n",
        "\n",
        "# Convert other data types to torch.Tensor\n",
        "train_labels = torch.tensor(y_train).float()\n",
        "val_labels = torch.tensor(y_val).float()\n",
        "#X_t_labels = torch.tensor(X_t).float()\n",
        "#X_v_labels = torch.tensor(X_v).float()\n",
        "# For fine-tuning BERT, the authors recommend a batch size of 16 or 32.\n",
        "batch_size = 32\n",
        "\n",
        "# Create the DataLoader for our training set\n",
        "#train_data = TensorDataset(train_inputs, train_masks, train_labels, X_t_labels)\n",
        "train_data = TensorDataset(train_inputs, train_masks, train_labels)\n",
        "train_sampler = RandomSampler(train_data)\n",
        "train_dataloader = DataLoader(train_data, sampler=train_sampler, batch_size=batch_size)\n",
        "\n",
        "# Create the DataLoader for our validation set\n",
        "#val_data = TensorDataset(val_inputs, val_masks, val_labels ,X_v_labels)\n",
        "val_data = TensorDataset(val_inputs, val_masks, val_labels)\n",
        "val_sampler = SequentialSampler(val_data)\n",
        "val_dataloader = DataLoader(val_data, sampler=val_sampler, batch_size=batch_size)"
      ],
      "execution_count": null,
      "outputs": []
    },
    {
      "cell_type": "code",
      "metadata": {
        "id": "n3Mtd8olaVL7"
      },
      "source": [
        "############### CREATING TEST_DATA_LOADER #######################\n",
        "# Convert other data types to torch.Tensor\n",
        "#test_inputs, test_masks = preprocessing_for_bert(X_test)\n",
        "#test_labels = torch.tensor(y_test).float()\n",
        "#y_t_labels = torch.tensor(y_t).float()\n",
        "# For fine-tuning BERT, the authors recommend a batch size of 16 or 32.\n",
        "batch_size = 32\n",
        "\n",
        "# Create the DataLoader for our test set\n",
        "#test_data = TensorDataset(test_inputs, test_masks, test_labels,y_t_labels)\n",
        "#test_sampler = RandomSampler(test_data)\n",
        "#test_dataloader = DataLoader(test_data, sampler=test_sampler, batch_size=batch_size)\n"
      ],
      "execution_count": null,
      "outputs": []
    },
    {
      "cell_type": "code",
      "metadata": {
        "id": "CJHe7oF1afOT"
      },
      "source": [
        "%%time\n",
        "import torch\n",
        "import torch.nn as nn\n",
        "from transformers import BertModel\n",
        "\n",
        "# Create the BertClassfier class\n",
        "class BertClassifier(nn.Module):\n",
        "    \"\"\"Bert Model for Classification Tasks.\n",
        "    \"\"\"\n",
        "    def __init__(self, freeze_bert=False):\n",
        "        \"\"\"\n",
        "        @param    bert: a BertModel object\n",
        "        @param    classifier: a torch.nn.Module classifier\n",
        "        @param    freeze_bert (bool): Set `False` to fine-tune the BERT model\n",
        "        \"\"\"\n",
        "        super(BertClassifier, self).__init__()\n",
        "        # Specify hidden size of BERT, hidden size of our classifier, and number of labels\n",
        "        D_in, H, D_out = 768, 50, 1\n",
        "\n",
        "        # Instantiate BERT model\n",
        "        self.bert = AutoModel.from_pretrained(\"bert-base-uncased\")\n",
        "        \n",
        "        # Instantiate an one-layer feed-forward classifier\n",
        "        self.classifier = nn.Sequential(\n",
        "            nn.Linear(D_in, H),\n",
        "            nn.ReLU(),\n",
        "            nn.Dropout(0.4),\n",
        "            nn.Linear(H, D_out),\n",
        "            nn.ReLU()\n",
        "        )\n",
        "        \n",
        "        # Freeze the BERT model\n",
        "        if freeze_bert:\n",
        "            for param in self.bert.parameters():\n",
        "                param.requires_grad = False\n",
        "        \n",
        "    def forward(self, input_ids, attention_mask, decoder_input_ids=None, decoder_attention_mask=None):\n",
        "        \"\"\"\n",
        "        Feed input to BERT and the classifier to compute logits.\n",
        "        @param    input_ids (torch.Tensor): an input tensor with shape (batch_size,\n",
        "                      max_length)\n",
        "        @param    attention_mask (torch.Tensor): a tensor that hold attention mask\n",
        "                      information with shape (batch_size, max_length)\n",
        "        @return   logits (torch.Tensor): an output tensor with shape (batch_size,\n",
        "                      num_labels)\n",
        "        \"\"\"\n",
        "        # Feed input to BERT\n",
        "        outputs = self.bert(input_ids=input_ids,\n",
        "                            attention_mask=attention_mask)\n",
        "        \n",
        "        # Extract the last hidden state of the token `[CLS]` for classification task\n",
        "        last_hidden_state_cls = outputs[0][:, 0, :]\n",
        "\n",
        "        # Feed input to classifier to compute logits\n",
        "        # logits = self.classifier(torch.cat((last_hidden_state_cls,X_t),1))\n",
        "        logits = self.classifier(last_hidden_state_cls)\n",
        "        #regress = self.classifier2(X_t)\n",
        "        #final = self.classifier3(torch.cat((logits,regress),1))\n",
        "        return logits"
      ],
      "execution_count": null,
      "outputs": []
    },
    {
      "cell_type": "code",
      "metadata": {
        "id": "YxtyyUW0aYHB"
      },
      "source": [
        "from transformers import AdamW, get_linear_schedule_with_warmup\n",
        "\n",
        "def initialize_model(epochs=4):\n",
        "    \"\"\"Initialize the Bert Classifier, the optimizer and the learning rate scheduler.\n",
        "    \"\"\"\n",
        "    # Instantiate Bert Classifier\n",
        "    bert_classifier = BertClassifier(freeze_bert=False)\n",
        "\n",
        "    # Tell PyTorch to run the model on GPU\n",
        "    bert_classifier.to(device)\n",
        "\n",
        "    # Create the optimizer\n",
        "    optimizer = AdamW(bert_classifier.parameters(),\n",
        "                      lr=2e-5,    # Default learning rate\n",
        "                      eps=1e-8    # Default epsilon value\n",
        "                      )\n",
        "\n",
        "    # Total number of training steps\n",
        "    total_steps = len(train_dataloader) * epochs\n",
        "\n",
        "    # Set up the learning rate scheduler\n",
        "    scheduler = get_linear_schedule_with_warmup(optimizer,\n",
        "                                                num_warmup_steps=0, # Default value\n",
        "                                                num_training_steps=total_steps)\n",
        "    return bert_classifier, optimizer, scheduler"
      ],
      "execution_count": null,
      "outputs": []
    },
    {
      "cell_type": "code",
      "metadata": {
        "id": "mlMnPaXtaju-"
      },
      "source": [
        "import random\n",
        "import time\n",
        "\n",
        "# Specify loss function\n",
        "loss_fn = nn.MSELoss()\n",
        "\n",
        "def set_seed(seed_value=42):\n",
        "    \"\"\"Set seed for reproducibility.\n",
        "    \"\"\"\n",
        "    random.seed(seed_value)\n",
        "    np.random.seed(seed_value)\n",
        "    torch.manual_seed(seed_value)\n",
        "    torch.cuda.manual_seed_all(seed_value)\n",
        "\n",
        "def train(model, train_dataloader, val_dataloader=None, epochs=4, evaluation=False):\n",
        "    \"\"\"Train the BertClassifier model.\n",
        "    \"\"\"\n",
        "    Best_acc = 0.0\n",
        "    # Start training loop\n",
        "    print(\"Start training...\\n\")\n",
        "    for epoch_i in range(epochs):\n",
        "        # =======================================\n",
        "        #               Training\n",
        "        # =======================================\n",
        "        # Print the header of the result table\n",
        "        print(f\"{'Epoch':^7} | {'Batch':^7} | {'Train Loss':^12} | {'Val Loss':^10} | {'Val Acc':^9} | {'Elapsed':^9}\")\n",
        "        print(\"-\"*70)\n",
        "\n",
        "        # Measure the elapsed time of each epoch\n",
        "        t0_epoch, t0_batch = time.time(), time.time()\n",
        "\n",
        "        # Reset tracking variables at the beginning of each epoch\n",
        "        total_loss, batch_loss, batch_counts = 0, 0, 0\n",
        "\n",
        "        # Put the model into the training mode\n",
        "        model.train()\n",
        "\n",
        "        # For each batch of training data...\n",
        "        for step, batch in enumerate(train_dataloader):\n",
        "            batch_counts +=1\n",
        "            # Load batch to GPU\n",
        "            b_input_ids, b_attn_mask, b_labels = tuple(t.to(device) for t in batch)\n",
        "\n",
        "            # Zero out any previously calculated gradients\n",
        "            model.zero_grad()\n",
        "\n",
        "            # Perform a forward pass. This will return logits.\n",
        "            logits = model(b_input_ids, b_attn_mask)\n",
        "            logits = torch.squeeze(logits)\n",
        "            #print(logits.shape,\" hello_in_train\")\n",
        "            \n",
        "            #print(logits)\n",
        "            #print(b_labels)\n",
        "            # Compute loss and accumulate the loss values\n",
        "            loss = loss_fn(logits, b_labels)\n",
        "            batch_loss += loss.item()\n",
        "            total_loss += loss.item()\n",
        "\n",
        "            # Perform a backward pass to calculate gradients\n",
        "            loss.backward()\n",
        "\n",
        "            # Clip the norm of the gradients to 1.0 to prevent \"exploding gradients\"\n",
        "            torch.nn.utils.clip_grad_norm_(model.parameters(), 1.0)\n",
        "\n",
        "            # Update parameters and the learning rate\n",
        "            optimizer.step()\n",
        "            scheduler.step()\n",
        "\n",
        "            # Print the loss values and time elapsed for every 20 batches\n",
        "            if (step % 20 == 0 and step != 0) or (step == len(train_dataloader) - 1):\n",
        "                # Calculate time elapsed for 20 batches\n",
        "                time_elapsed = time.time() - t0_batch\n",
        "\n",
        "                # Print training results\n",
        "                print(f\"{epoch_i + 1:^7} | {step:^7} | {batch_loss / batch_counts:^12.6f} | {'-':^10} | {'-':^9} | {time_elapsed:^9.2f}\")\n",
        "\n",
        "                # Reset batch tracking variables\n",
        "                batch_loss, batch_counts = 0, 0\n",
        "                t0_batch = time.time()\n",
        "\n",
        "        # Calculate the average loss over the entire training data\n",
        "        avg_train_loss = total_loss / len(train_dataloader)\n",
        "\n",
        "        print(\"-\"*70)\n",
        "        # =======================================\n",
        "        #               Evaluation\n",
        "        # =======================================\n",
        "        if evaluation == True:\n",
        "            # After the completion of each training epoch, measure the model's performance\n",
        "            # on our validation set.\n",
        "            val_loss, val_accuracy = evaluate(model, val_dataloader)\n",
        "\n",
        "            if val_accuracy>Best_acc:\n",
        "              Best_acc = val_accuracy\n",
        "              torch.save(model, PATH+\"/\"+str(epoch_i)+\"empathy_best_model.pt\")\n",
        "            # Print performance over the entire training data\n",
        "            time_elapsed = time.time() - t0_epoch\n",
        "            \n",
        "            print(f\"{epoch_i + 1:^7} | {'-':^7} | {avg_train_loss:^12.6f} | {val_loss:^10.6f} | {val_accuracy:^9.2f} | {time_elapsed:^9.2f}\")\n",
        "            print(\"-\"*70)\n",
        "        print(\"\\n\")\n",
        "    \n",
        "    print(\"Training complete!\")\n",
        "\n",
        "def pearson(X,Y):\n",
        "    xm = torch.mean(X)\n",
        "    ym = torch.mean(Y)\n",
        "    num = 0.0\n",
        "    deno1 = 0.0\n",
        "    deno2 = 0.0\n",
        "    deno = 0.0\n",
        "    n = X.shape[0]\n",
        "    for i in range(n):\n",
        "        num += (X[i]-xm)*(Y[i]-ym)\n",
        "        deno1 += (X[i]-xm)*(X[i]-xm)\n",
        "        deno2 += (Y[i]-ym)*(Y[i]-ym)\n",
        "    deno = deno1*deno2\n",
        "    deno = torch.sqrt(deno)\n",
        "    return (num/deno).item()\n",
        "\n",
        "def evaluate(model, val_dataloader):\n",
        "    \"\"\"After the completion of each training epoch, measure the model's performance\n",
        "    on our validation set.\n",
        "    \"\"\"\n",
        "    # Put the model into the evaluation mode. The dropout layers are disabled during\n",
        "    # the test time.\n",
        "    model.eval()\n",
        "\n",
        "    # Tracking variables\n",
        "    val_accuracy = []\n",
        "    val_loss = []\n",
        "\n",
        "    # For each batch in our validation set...\n",
        "    for batch in val_dataloader:\n",
        "        # Load batch to GPU\n",
        "        b_input_ids, b_attn_mask, b_labels = tuple(t.to(device) for t in batch)\n",
        "        # Compute logits\n",
        "        with torch.no_grad():\n",
        "            logits = model(b_input_ids, b_attn_mask) \n",
        "\n",
        "        logits = torch.squeeze(logits)\n",
        "        #print('here in evaluate',logits.shape)\n",
        "        # Compute loss\n",
        "        loss = loss_fn(logits, b_labels)\n",
        "        val_loss.append(loss.item())\n",
        "        #print('loss ', val_loss)\n",
        "\n",
        "        # Get the predictions\n",
        "        preds = logits                                                    #######################\n",
        "\n",
        "        # Calculate the accuracy rate\n",
        "        # accuracy = (preds == b_labels).cpu().numpy().mean() * 100         #######################(pearson_Score)\n",
        "        accuracy = pearson(preds,b_labels)\n",
        "        #print('accuracy ',accuracy)\n",
        "        val_accuracy.append(accuracy)\n",
        "\n",
        "    # Compute the average accuracy and loss over the validation set.\n",
        "    val_loss = np.mean(val_loss)\n",
        "    val_accuracy = np.mean(val_accuracy)\n",
        "    print(val_loss,\" halo \",val_accuracy)\n",
        "\n",
        "    return val_loss, val_accuracy"
      ],
      "execution_count": null,
      "outputs": []
    },
    {
      "cell_type": "code",
      "metadata": {
        "id": "1qkGpH_NalsC"
      },
      "source": [
        "set_seed(42)    # Set seed for reproducibility\n",
        "bert_classifier, optimizer, scheduler = initialize_model(epochs=10)\n",
        "train(bert_classifier, train_dataloader, val_dataloader, epochs=10, evaluation=True)"
      ],
      "execution_count": null,
      "outputs": []
    },
    {
      "cell_type": "code",
      "metadata": {
        "id": "gZqKnqKOPq4C"
      },
      "source": [
        "def custom_dataset(x,y):\n",
        "  inputs, masks = preprocessing_for_bert(x)\n",
        "  labels = torch.tensor(y).float()\n",
        "  data = TensorDataset(inputs, masks, labels)\n",
        "  #sampler = RandomSampler(data)\n",
        "  dataloader = DataLoader(data, shuffle = False, batch_size=batch_size)\n",
        "  return dataloader\n",
        "\n",
        "def custom_data(val,train):\n",
        "  X_val, y_val_distress, y_val_empathy = val.essay.values,train.distress.values,train.empathy.values\n",
        "  ds_loader = custom_dataset(X_val,y_val_distress)\n",
        "  em_loader = custom_dataset(X_val,y_val_empathy)\n",
        "  return ds_loader , em_loader\n"
      ],
      "execution_count": null,
      "outputs": []
    },
    {
      "cell_type": "code",
      "metadata": {
        "id": "QuEvO2TwhpVK"
      },
      "source": [
        "def eval(model, val_dataloader):\n",
        "    \"\"\"After the completion of each training epoch, measure the model's performance\n",
        "    on our validation set.\n",
        "    \"\"\"\n",
        "    # Put the model into the evaluation mode. The dropout layers are disabled during\n",
        "    # the test time.\n",
        "    model.eval()\n",
        "    model.to(device)\n",
        "    # Tracking variables\n",
        "    val_accuracy = []\n",
        "    val_loss = []\n",
        "\n",
        "    results = torch.tensor([])\n",
        "    labels = torch.tensor([])\n",
        "    results = results.to(device)\n",
        "    labels = labels.to(device)\n",
        "    # For each batch in our validation set...\n",
        "    for batch in val_dataloader:\n",
        "        # Load batch to GPU\n",
        "        b_input_ids, b_attn_mask, b_labels = tuple(t.to(device) for t in batch)\n",
        "        # Compute logits\n",
        "        with torch.no_grad():\n",
        "            logits = model(b_input_ids, b_attn_mask,None) \n",
        "\n",
        "        logits = torch.squeeze(logits)\n",
        "        #print('here in evaluate',logits.shape)\n",
        "        # Compute loss\n",
        "        loss = loss_fn(logits, b_labels)\n",
        "        val_loss.append(loss.item())\n",
        "        #print('loss ', val_loss)\n",
        "\n",
        "        # Get the predictions\n",
        "        preds = logits\n",
        "        preds = preds.to(device)\n",
        "        b_labels = b_labels.to(device)                                                    #######################\n",
        "        results = torch.cat((results,preds),0)\n",
        "        labels = torch.cat((labels,b_labels),0)\n",
        "        # Calculate the accuracy rate\n",
        "        # accuracy = (preds == b_labels).cpu().numpy().mean() * 100         #######################(pearson_Score)\n",
        "        accuracy = pearson(preds,b_labels)\n",
        "        #print('accuracy ',accuracy)\n",
        "        val_accuracy.append(accuracy)\n",
        "\n",
        "    # Compute the average accuracy and loss over the validation set.\n",
        "    val_loss = np.mean(val_loss)\n",
        "    val_accuracy = np.sum(val_accuracy)/len(val_accuracy)\n",
        "    print(val_loss,\"= loss , pearson = \",val_accuracy)\n",
        "\n",
        "    return results,labels"
      ],
      "execution_count": null,
      "outputs": []
    },
    {
      "cell_type": "code",
      "metadata": {
        "id": "SqAh2UUnmeJm"
      },
      "source": [
        "model_ds = torch.load('/content/drive/MyDrive/WASSA/8distress_best_model.pt')\n",
        "model_em = torch.load('/content/drive/MyDrive/WASSA/2empathy_best_model.pt')\n",
        "#len(test)"
      ],
      "execution_count": null,
      "outputs": []
    },
    {
      "cell_type": "code",
      "metadata": {
        "id": "dedrzQl9czvX"
      },
      "source": [
        "ds,em = custom_data(train,train)"
      ],
      "execution_count": null,
      "outputs": []
    },
    {
      "cell_type": "code",
      "metadata": {
        "id": "04L5M5eBry5Y"
      },
      "source": [
        "train.shape"
      ],
      "execution_count": null,
      "outputs": []
    },
    {
      "cell_type": "code",
      "metadata": {
        "id": "Vbc1MwJUdWJn"
      },
      "source": [
        "def embds(data,model):\n",
        "  tm = torch.tensor([])\n",
        "  print(tm)\n",
        "  tm.to('cpu')\n",
        "  model_ds.eval()\n",
        "  model_ds.to(device)\n",
        "  for batch in data:\n",
        "      # Load batch to GPU\n",
        "      b_input_ids, b_attn_mask, b_labels = tuple(t.to(device) for t in batch)\n",
        "      # print(b_labels)\n",
        "      # Compute logits\n",
        "      with torch.no_grad():\n",
        "          outputs = model.bert(input_ids=b_input_ids,\n",
        "                              attention_mask=b_attn_mask)\n",
        "      ext = torch.tensor(outputs[0][:, 0, :]).to('cpu')\n",
        "      tm = torch.cat((tm,ext),0)\n",
        "  return(tm)                       "
      ],
      "execution_count": null,
      "outputs": []
    },
    {
      "cell_type": "code",
      "metadata": {
        "id": "MhtSg8p00_jB"
      },
      "source": [
        "ds_train,em_train = custom_data(train,train)\n",
        "ds_val, em_val    = custom_data(val,val)\n",
        "ds_test, em_test  = custom_data(test,train[0:len(test)])"
      ],
      "execution_count": null,
      "outputs": []
    },
    {
      "cell_type": "code",
      "metadata": {
        "id": "Vd0UU1An2JAM"
      },
      "source": [
        "ds_tred, em_tred     = embds(ds_train,model_ds),embds(em_train,model_em) \n",
        "ds_valed, em_valed   = embds(ds_val,model_ds),embds(em_val,model_em)\n",
        "ds_tested, em_tested = embds(ds_test,model_ds),embds(em_test,model_em)"
      ],
      "execution_count": null,
      "outputs": []
    },
    {
      "cell_type": "code",
      "metadata": {
        "id": "4c_tP3dP5Pu8"
      },
      "source": [
        "train_md = train.iloc[:,3:]\n",
        "val_md   = val.iloc[:,3:]\n",
        "test_md  = test.iloc[:,4:]"
      ],
      "execution_count": null,
      "outputs": []
    },
    {
      "cell_type": "code",
      "metadata": {
        "colab": {
          "base_uri": "https://localhost:8080/"
        },
        "id": "C2V7iUUUCqbx",
        "outputId": "f5dab938-cd5c-45eb-8edd-ddd0b83d6b5f"
      },
      "source": [
        "cols1 = test_md.columns.tolist() \n",
        "cols2 = train_md.columns.tolist()\n",
        "cols3 = val_md.columns.tolist()\n",
        "print(cols1)\n",
        "print(cols2)\n",
        "print(cols3)"
      ],
      "execution_count": null,
      "outputs": [
        {
          "output_type": "stream",
          "text": [
            "['gender', 'education', 'race', 'age', 'income', 'personality_conscientiousness', 'personality_openess', 'personality_extraversion', 'personality_agreeableness', 'personality_stability', 'iri_perspective_taking', 'iri_personal_distress', 'iri_fantasy', 'iri_empathatic_concern']\n",
            "['gender', 'education', 'race', 'age', 'income', 'personality_conscientiousness', 'personality_openess', 'personality_extraversion', 'personality_agreeableness', 'personality_stability', 'iri_perspective_taking', 'iri_personal_distress', 'iri_fantasy', 'iri_empathatic_concern']\n",
            "['gender', 'education', 'race', 'age', 'income', 'personality_conscientiousness', 'personality_openess', 'personality_extraversion', 'personality_agreeableness', 'personality_stability', 'iri_perspective_taking', 'iri_personal_distress', 'iri_fantasy', 'iri_empathatic_concern']\n"
          ],
          "name": "stdout"
        }
      ]
    },
    {
      "cell_type": "code",
      "metadata": {
        "id": "lDM03dl--UKG"
      },
      "source": [
        "print(train_md.shape)\n",
        "print(val_md.shape)\n",
        "print(test_md.shape)\n",
        "scaled(test_md)"
      ],
      "execution_count": null,
      "outputs": []
    },
    {
      "cell_type": "code",
      "metadata": {
        "id": "mt82sb2R5P81"
      },
      "source": [
        "import pandas as pd\n",
        "from sklearn import preprocessing\n",
        "\n",
        "def scaled(other):\n",
        "  x = other.values #returns a numpy array\n",
        "  min_max_scaler = preprocessing.StandardScaler()\n",
        "  x_scaled = min_max_scaler.fit_transform(x)\n",
        "  df = pd.DataFrame(x_scaled)\n",
        "  return df"
      ],
      "execution_count": null,
      "outputs": []
    },
    {
      "cell_type": "code",
      "metadata": {
        "id": "nPGbvl6K6lQE"
      },
      "source": [
        "ds_tred = pd.concat([pd.DataFrame(ds_tred.numpy()),scaled(train_md)],axis = 1)\n",
        "em_tred = pd.concat([pd.DataFrame(em_tred.numpy()),scaled(train_md)],axis = 1)\n",
        "ds_valed = pd.concat([pd.DataFrame(ds_valed.numpy()),scaled(val_md)],axis = 1)\n",
        "em_valed = pd.concat([pd.DataFrame(em_valed.numpy()),scaled(val_md)],axis = 1)\n",
        "ds_tested = pd.concat([pd.DataFrame(ds_tested.numpy()),scaled(test_md)],axis = 1)\n",
        "em_tested = pd.concat([pd.DataFrame(em_tested.numpy()),scaled(test_md)],axis = 1)"
      ],
      "execution_count": null,
      "outputs": []
    },
    {
      "cell_type": "markdown",
      "metadata": {
        "id": "PP833IfjHLeM"
      },
      "source": [
        "**SVR**"
      ]
    },
    {
      "cell_type": "code",
      "metadata": {
        "id": "DNNX7EStHP4k"
      },
      "source": [
        "from sklearn.svm import SVR\n",
        "from sklearn.pipeline import make_pipeline\n",
        "from sklearn.preprocessing import StandardScaler\n",
        "import numpy as np\n",
        "def SVM(dx_train,dy_train,dx_val,dy_val,em_train,ey_train,ex_val,ey_val):\n",
        "  rgr = make_pipeline(StandardScaler(), SVR(C=1.0, epsilon=0.2))\n",
        "  rgr.fit(dx_train,dy_train)\n",
        "  y_val = rgr.predict(dx_val)\n",
        "  print('distress=',pearsonr(y_val,dy_val))\n",
        "  rgr = make_pipeline(StandardScaler(), SVR(C=1.0, epsilon=0.2))\n",
        "  rgr.fit(em_train,ey_train)\n",
        "  y_val = rgr.predict(ex_val)\n",
        "  print('empathy=',pearsonr(y_val,ey_val))"
      ],
      "execution_count": null,
      "outputs": []
    },
    {
      "cell_type": "code",
      "metadata": {
        "id": "9-vFIpp_PyRS"
      },
      "source": [
        "SVM(tred.values,train.distress.values,valed.values,val.distress.values\n",
        "       ,tred.values,train.empathy.values,valed.values,val.empathy.values)"
      ],
      "execution_count": null,
      "outputs": []
    },
    {
      "cell_type": "code",
      "metadata": {
        "id": "ANf2PWO1Hm6W"
      },
      "source": [
        "SVM(ds_tred.values,train.distress.values,ds_valed.values,val.distress.values\n",
        "       ,em_tred.values,train.empathy.values,em_valed.values,val.empathy.values)"
      ],
      "execution_count": null,
      "outputs": []
    },
    {
      "cell_type": "markdown",
      "metadata": {
        "id": "SaGe50n2I8r5"
      },
      "source": [
        "**LINEAR_REGRESSION**"
      ]
    },
    {
      "cell_type": "code",
      "metadata": {
        "id": "Znx9ASLkJF1o"
      },
      "source": [
        "from sklearn.linear_model import ElasticNet, Lasso\n",
        "from sklearn.datasets import make_regression\n",
        "def metric(dx_train,dy_train,dx_val,dy_val,em_train,ey_train,ex_val,ey_val):\n",
        "  rgr = ElasticNet(random_state=0)\n",
        "  rgr.fit(dx_train,dy_train)\n",
        "  y_val = rgr.predict(dx_val)\n",
        "  print('distress=',pearsonr(y_val,dy_val))\n",
        "  rgr = ElasticNet(random_state=0)\n",
        "  rgr.fit(em_train,ey_train)\n",
        "  y_val = rgr.predict(ex_val)\n",
        "  print('empathy=',pearsonr(y_val,ey_val))\n",
        "  rgr = Lasso(random_state=0)\n",
        "  rgr.fit(dx_train,dy_train)\n",
        "  y_val = rgr.predict(dx_val)\n",
        "  print('distress_Lasso=',pearsonr(y_val,dy_val))\n",
        "  rgr = Lasso(random_state=0)\n",
        "  rgr.fit(em_train,ey_train)\n",
        "  y_val = rgr.predict(ex_val)\n",
        "  print('empathy_Lasso=',pearsonr(y_val,ey_val))"
      ],
      "execution_count": null,
      "outputs": []
    },
    {
      "cell_type": "code",
      "metadata": {
        "id": "ORYKgp20QH6B"
      },
      "source": [
        "metric(tred.values,train.distress.values,valed.values,val.distress.values\n",
        "       ,tred.values,train.empathy.values,valed.values,val.empathy.values)"
      ],
      "execution_count": null,
      "outputs": []
    },
    {
      "cell_type": "code",
      "metadata": {
        "id": "GWyP3ha4OX4c"
      },
      "source": [
        "metric(ds_tred.values,train.distress.values,ds_valed.values,val.distress.values\n",
        "       ,em_tred.values,train.empathy.values,em_valed.values,val.empathy.values)"
      ],
      "execution_count": null,
      "outputs": []
    },
    {
      "cell_type": "markdown",
      "metadata": {
        "id": "trhb3-hERDWb"
      },
      "source": [
        "**Random-Forest**"
      ]
    },
    {
      "cell_type": "code",
      "metadata": {
        "id": "ynXUwo5uRZSO"
      },
      "source": [
        "# Fitting Random Forest Regression to the dataset \n",
        "# import the regressor \n",
        "from sklearn.ensemble import RandomForestRegressor \n",
        "\n",
        "def RRF(dx_train,dy_train,dx_val,dy_val,em_train,ey_train,ex_val,ey_val):\n",
        "  rgr = RandomForestRegressor(n_estimators = 100, random_state = 0)\n",
        "  rgr.fit(dx_train,dy_train)\n",
        "  y_val = rgr.predict(dx_val)\n",
        "  print('distress=',pearsonr(y_val,dy_val))\n",
        "  rgr = RandomForestRegressor(n_estimators = 100, random_state = 0)\n",
        "  rgr.fit(em_train,ey_train)\n",
        "  y_val = rgr.predict(ex_val)\n",
        "  print('empathy=',pearsonr(y_val,ey_val))"
      ],
      "execution_count": null,
      "outputs": []
    },
    {
      "cell_type": "code",
      "metadata": {
        "id": "SRu7Q36VQNfQ"
      },
      "source": [
        "RRF(tred.values,train.distress.values,valed.values,val.distress.values\n",
        "       ,tred.values,train.empathy.values,valed.values,val.empathy.values)"
      ],
      "execution_count": null,
      "outputs": []
    },
    {
      "cell_type": "code",
      "metadata": {
        "id": "wp4A2E3Vngy9"
      },
      "source": [
        "RRF(ds_tred.values,train.distress.values,ds_valed.values,val.distress.values\n",
        "       ,em_tred.values,train.empathy.values,em_valed.values,val.empathy.values)"
      ],
      "execution_count": null,
      "outputs": []
    },
    {
      "cell_type": "markdown",
      "metadata": {
        "id": "PqIz8KEkSDNC"
      },
      "source": [
        "**XG-BOOST**"
      ]
    },
    {
      "cell_type": "code",
      "metadata": {
        "id": "F-leoMmEU07P"
      },
      "source": [
        "from sklearn.ensemble import GradientBoostingClassifier\n",
        "import xgboost as xg \n",
        "def XGBOOST(dx_train,dy_train,dx_val,dy_val,em_train,ey_train,ex_val,ey_val):\n",
        "  rgr = xg.XGBRegressor(objective ='reg:squarederror', \n",
        "                  n_estimators = 10, seed = 123)\n",
        "  rgr.fit(dx_train,dy_train)\n",
        "  y_val = rgr.predict(dx_val)\n",
        "  print('distress=',pearsonr(y_val,dy_val))\n",
        "  rgr = xg.XGBRegressor(objective ='reg:squarederror', \n",
        "                  n_estimators = 10, seed = 123)\n",
        "  rgr.fit(em_train,ey_train)\n",
        "  y_val = rgr.predict(ex_val)\n",
        "  print('empathy=',pearsonr(y_val,ey_val))"
      ],
      "execution_count": null,
      "outputs": []
    },
    {
      "cell_type": "code",
      "metadata": {
        "id": "9UUWjIjxQYxs"
      },
      "source": [
        "XGBOO(tred.values,train.distress.values,valed.values,val.distress.values\n",
        "       ,tred.values,train.empathy.values,valed.values,val.empathy.values)"
      ],
      "execution_count": null,
      "outputs": []
    },
    {
      "cell_type": "code",
      "metadata": {
        "id": "N7B4vKNrVj8y"
      },
      "source": [
        "XGBOOST(ds_tred.values,train.distress.values,ds_valed.values,val.distress.values\n",
        "       ,em_tred.values,train.empathy.values,em_valed.values,val.empathy.values)"
      ],
      "execution_count": null,
      "outputs": []
    },
    {
      "cell_type": "markdown",
      "metadata": {
        "id": "Ci-Zr-85W1tW"
      },
      "source": [
        "**ADA-BOOST**"
      ]
    },
    {
      "cell_type": "code",
      "metadata": {
        "id": "V-RJDtksW4ZR"
      },
      "source": [
        "from sklearn.ensemble import AdaBoostRegressor\n",
        "def ADABOOST(dx_train,dy_train,dx_val,dy_val,em_train,ey_train,ex_val,ey_val):\n",
        "  rgr = AdaBoostRegressor(learning_rate = 0.9,loss='square',random_state=0, n_estimators=100)\n",
        "  rgr.fit(dx_train,dy_train)\n",
        "  y_val = rgr.predict(dx_val)\n",
        "  print('distress=',pearsonr(y_val,dy_val))\n",
        "  rgr = AdaBoostRegressor(loss='square',random_state=0, n_estimators=100)\n",
        "  rgr.fit(em_train,ey_train)\n",
        "  y_val = rgr.predict(ex_val)\n",
        "  print('empathy=',pearsonr(y_val,ey_val))"
      ],
      "execution_count": null,
      "outputs": []
    },
    {
      "cell_type": "code",
      "metadata": {
        "id": "jSrQXeflXYiF"
      },
      "source": [
        "ADABOOST(ds_tred.values,train.distress.values,ds_valed.values,val.distress.values\n",
        "       ,em_tred.values,train.empathy.values,em_valed.values,val.empathy.values)"
      ],
      "execution_count": null,
      "outputs": []
    },
    {
      "cell_type": "markdown",
      "metadata": {
        "id": "Tn6TUaJgnqPN"
      },
      "source": [
        "**MLP**"
      ]
    },
    {
      "cell_type": "code",
      "metadata": {
        "id": "IAs-mu2VwBzT"
      },
      "source": [
        "PATH = '/content/drive/MyDrive/WASSA/res'"
      ],
      "execution_count": null,
      "outputs": []
    },
    {
      "cell_type": "code",
      "metadata": {
        "id": "eZyNVL4Dns81"
      },
      "source": [
        "from sklearn.neural_network import MLPRegressor\n",
        "def MLP(dx_train,dy_train,dx_val,dy_val,em_train,ey_train,ex_val,ey_val,test_x):\n",
        "  rgr = MLPRegressor(hidden_layer_sizes=(100,),learning_rate='adaptive',activation='relu',random_state=1, max_iter=80)\n",
        "  rgr.fit(dx_train,dy_train)\n",
        "  y_val = rgr.predict(dx_val)\n",
        "  ds_pred = rgr.predict(test_x)\n",
        "  print('distress=',pearsonr(y_val,dy_val))\n",
        "  rgr = MLPRegressor(hidden_layer_sizes=(100,),learning_rate='adaptive',activation='relu',random_state=1, max_iter=40)\n",
        "  rgr.fit(em_train,ey_train)\n",
        "  y_val = rgr.predict(ex_val)\n",
        "  print('empathy=',pearsonr(y_val,ey_val))\n",
        "  em_pred = rgr.predict(test_x)\n",
        "  test_sub = pd.DataFrame({'em':em_pred,'ds':ds_pred})\n",
        "  test_ans = test_sub.to_csv(\"predictions_EMP.tsv\",sep='\\t',index=False,header=None)"
      ],
      "execution_count": null,
      "outputs": []
    },
    {
      "cell_type": "code",
      "metadata": {
        "id": "lqDo7ILaRoVk"
      },
      "source": [
        "MLP(tred.values,train.distress.values,valed.values,val.distress.values\n",
        "       ,tred.values,train.empathy.values,valed.values,val.empathy.values,tested.values)"
      ],
      "execution_count": null,
      "outputs": []
    },
    {
      "cell_type": "code",
      "metadata": {
        "id": "x2u_kRX2oDUP"
      },
      "source": [
        "MLP(ds_tred.values,train.distress.values,ds_valed.values,val.distress.values\n",
        "       ,em_tred.values,train.empathy.values,em_valed.values,val.empathy.values,ds_tested.values)"
      ],
      "execution_count": null,
      "outputs": []
    },
    {
      "cell_type": "code",
      "metadata": {
        "id": "kr9LxHdmseZE"
      },
      "source": [
        "MLP(ds_tred.values,train.distress.values,ds_valed.values,val.distress.values\n",
        "       ,em_tred.values,train.empathy.values,em_valed.values,val.empathy.values)"
      ],
      "execution_count": null,
      "outputs": []
    },
    {
      "cell_type": "code",
      "metadata": {
        "id": "DjbN0VNIFtjW"
      },
      "source": [
        "def pearsonr(x, y):\n",
        "\t\"\"\"\n",
        "\tCalculates a Pearson correlation coefficient. \n",
        "\t\"\"\"\n",
        "\n",
        "\tassert len(x) == len(y), 'Prediction and gold standard does not have the same length...'\n",
        "\n",
        "\txm = sum(x)/len(x)\n",
        "\tym = sum(y)/len(y)\n",
        "\n",
        "\txn = [k-xm for k in x]\n",
        "\tyn = [k-ym for k in y]\n",
        "\n",
        "\tr = 0 \n",
        "\tr_den_x = 0\n",
        "\tr_den_y = 0\n",
        "\tfor xn_val, yn_val in zip(xn, yn):\n",
        "\t\tr += xn_val*yn_val\n",
        "\t\tr_den_x += xn_val*xn_val\n",
        "\t\tr_den_y += yn_val*yn_val\n",
        "\n",
        "\tr_den = np.sqrt(r_den_x*r_den_y)\n",
        "\n",
        "\tif r_den:\n",
        "\t\tr = r / r_den\n",
        "\telse:\n",
        "\t\tr = 0\n",
        "\n",
        "\t# Presumably, if abs(r) > 1, then it is only some small artifact of floating\n",
        "\t# point arithmetic.\n",
        "\tr = max(min(r, 1.0), -1.0)\n",
        "\n",
        "\treturn round(r,4)"
      ],
      "execution_count": null,
      "outputs": []
    },
    {
      "cell_type": "code",
      "metadata": {
        "id": "WcuYneRiI9GU"
      },
      "source": [
        "results_ds,ds_labels = eval(model_ds,ds)\n",
        "results_em,em_labels = eval(model_em,em)"
      ],
      "execution_count": null,
      "outputs": []
    },
    {
      "cell_type": "code",
      "metadata": {
        "id": "vRQMieK-JROP"
      },
      "source": [
        "results_ds = results_ds.to('cpu').numpy()\n",
        "ds_labels  = ds_labels.to('cpu').numpy()\n",
        "results_em = results_em.to('cpu').numpy()\n",
        "em_labels  = em_labels.to('cpu').numpy() "
      ],
      "execution_count": null,
      "outputs": []
    },
    {
      "cell_type": "code",
      "metadata": {
        "id": "sBoWaHwCcUAw"
      },
      "source": [
        "print(pearsonr(results_ds,ds_labels))\n",
        "print(pearsonr(results_em,em_labels))"
      ],
      "execution_count": null,
      "outputs": []
    },
    {
      "cell_type": "code",
      "metadata": {
        "id": "9hicBphWpjPu"
      },
      "source": [
        "\n",
        "pearson(results_em,em_labels)"
      ],
      "execution_count": null,
      "outputs": []
    },
    {
      "cell_type": "code",
      "metadata": {
        "id": "WYICnapMY-jb"
      },
      "source": [
        "ds_pred = results_ds \n",
        "em_pred = results_em"
      ],
      "execution_count": null,
      "outputs": []
    },
    {
      "cell_type": "code",
      "metadata": {
        "id": "nIMBQSIu9FBZ"
      },
      "source": [
        "test_sub = pd.DataFrame({'em':em_pred,'ds':ds_pred})\n",
        "test_ans = test_sub.to_csv(PATH+\"/predictions_EMP.tsv\",sep='\\t',index=False,header=None)"
      ],
      "execution_count": null,
      "outputs": []
    },
    {
      "cell_type": "code",
      "metadata": {
        "id": "2ReBY4cWK5nz"
      },
      "source": [
        "from __future__ import print_function\n",
        "import sys\n",
        "import os\n",
        "from math import sqrt\n",
        "\n",
        "to_round = 4\n",
        "\n",
        "\n",
        "\n",
        "def readFileToList(filename):\n",
        "\t#eprint(\"Reading data from\",filename)\n",
        "\tlines=filename.readlines()\n",
        "\tresult=[]\n",
        "\tfor x in lines:\n",
        "\t\tresult.append(x.rstrip().split('\\t'))\n",
        "\tfilename.close()\n",
        "\treturn result\n",
        "\n",
        "def calculatePRF(gold,prediction):\n",
        "\t\"\"\"\n",
        "\tgold/prediction list of list of emo predictions \n",
        "\t\"\"\"\n",
        "\t# initialize counters\n",
        "\tlabels = set(gold+prediction)\n",
        "\ttp = dict.fromkeys(labels, 0.0)\n",
        "\tfp = dict.fromkeys(labels, 0.0)\n",
        "\tfn = dict.fromkeys(labels, 0.0)\n",
        "\tprecision = dict.fromkeys(labels, 0.0)\n",
        "\trecall = dict.fromkeys(labels, 0.0)\n",
        "\tf = dict.fromkeys(labels, 0.0)\n",
        "\t# check every element\n",
        "\tfor g,p in zip(gold,prediction):\n",
        "\t\t# TP \n",
        "\t\tif (g == p):\n",
        "\t\t\ttp[g] += 1\n",
        "\t\telse:\n",
        "\t\t\tfp[p] += 1\n",
        "\t\t\tfn[g] += 1\n",
        "   # print(\"Label\\tTP\\tFP\\tFN\\tP\\tR\\tF\")\n",
        "\tfor label in labels:\n",
        "\t\trecall[label] = 0.0 if (tp[label]+fn[label]) == 0.0 else (tp[label])/(tp[label]+fn[label])\n",
        "\t\tprecision[label] = 1.0 if (tp[label]+fp[label]) == 0.0 else (tp[label])/(tp[label]+fp[label])\n",
        "\t\tf[label] = 0.0 if (precision[label]+recall[label])==0 else (2*precision[label]*recall[label])/(precision[label]+recall[label])\n",
        "\t\tmicrorecall = (sum(tp.values()))/(sum(tp.values())+sum(fn.values()))\n",
        "\t\tmicroprecision = (sum(tp.values()))/(sum(tp.values())+sum(fp.values()))\n",
        "\t\tmicrof = 0.0 if (microprecision+microrecall)==0 else (2*microprecision*microrecall)/(microprecision+microrecall)\n",
        "\t# Macro average\n",
        "\tmacrorecall = sum(recall.values())/len(recall)\n",
        "\tmacroprecision = sum(precision.values())/len(precision)\n",
        "\tmacroF = sum(f.values())/len(f)\n",
        "\n",
        "\taccuracy = 0\n",
        "\tfor label in labels:\n",
        "\t\taccuracy += tp[label]\n",
        "\n",
        "\taccuracy = accuracy/len(gold)\n",
        "\n",
        "\treturn round(microrecall,to_round),round(microprecision,to_round),round(microf,to_round),round(macrorecall,to_round),round(macroprecision,to_round),round(macroF,to_round),round(accuracy,to_round)\n",
        "\n",
        "def pearsonr(x, y):\n",
        "\t\"\"\"\n",
        "\tCalculates a Pearson correlation coefficient. \n",
        "\t\"\"\"\n",
        "\n",
        "\tassert len(x) == len(y), 'Prediction and gold standard does not have the same length...'\n",
        "\n",
        "\txm = sum(x)/len(x)\n",
        "\tym = sum(y)/len(y)\n",
        "\n",
        "\txn = [k-xm for k in x]\n",
        "\tyn = [k-ym for k in y]\n",
        "\n",
        "\tr = 0 \n",
        "\tr_den_x = 0\n",
        "\tr_den_y = 0\n",
        "\tfor xn_val, yn_val in zip(xn, yn):\n",
        "\t\tr += xn_val*yn_val\n",
        "\t\tr_den_x += xn_val*xn_val\n",
        "\t\tr_den_y += yn_val*yn_val\n",
        "\n",
        "\tr_den = sqrt(r_den_x*r_den_y)\n",
        "\n",
        "\tif r_den:\n",
        "\t\tr = r / r_den\n",
        "\telse:\n",
        "\t\tr = 0\n",
        "\n",
        "\t# Presumably, if abs(r) > 1, then it is only some small artifact of floating\n",
        "\t# point arithmetic.\n",
        "\tr = max(min(r, 1.0), -1.0)\n",
        "\n",
        "\treturn round(r,to_round)\n",
        "\n",
        "def calculate_pearson(gold, prediction):\n",
        "\t\"\"\"\n",
        "\tgold/prediction are a list of lists [ emp pred , distress pred ]\n",
        "\t\"\"\"\n",
        "\n",
        "\t# converting to float\n",
        "\tgold = [float(k) for k in gold]\n",
        "\tprediction = [float(k) for k in prediction]\n",
        "\n",
        "\treturn pearsonr(gold, prediction)\n",
        "\n",
        "def calculate_metrics(golds, predictions, task1, task2):\n",
        "\t\"\"\"\n",
        "\tgold/prediction list of list of values : [ emp pred , distress pred , emo pred ]\n",
        "\t\"\"\"\n",
        "\tif task1:\n",
        "\t\tgold_empathy = [k[0] for k in golds]\n",
        "\t\tprediction_empathy = [k[0] for k in predictions]\n",
        "\t\tpearson_empathy = calculate_pearson(gold_empathy, prediction_empathy)\n",
        "\n",
        "\t\tgold_distress = [k[1] for k in golds]\n",
        "\t\tprediction_distress = [k[1] for k in predictions]\n",
        "\t\tpearson_distress = calculate_pearson(gold_distress, prediction_distress)\n",
        "\t\tavg_pearson = (pearson_empathy + pearson_distress)/2\n",
        "\telse:\n",
        "\t\tavg_pearson, pearson_empathy, pearson_distress = 0,0,0\n",
        "\n",
        "\tif task2:\n",
        "\t\tgold_emo = [k[2] for k in golds]\n",
        "\t\tprediction_emo = [k[2] for k in predictions]\n",
        "\n",
        "\t\tmicrorecall,microprecision,microf,macrorecall,macroprecision,macroF,accuracy = calculatePRF(gold_emo, prediction_emo)\n",
        "\telse:\n",
        "\t\tmicrorecall,microprecision,microf,macrorecall,macroprecision,macroF,accuracy = 0,0,0,0,0,0,0\n",
        "\n",
        "\treturn avg_pearson, pearson_empathy, pearson_distress, microrecall, microprecision, microf, macrorecall, macroprecision, macroF, accuracy\n",
        "\n",
        "nb_labels_EMP = 2\n",
        "nb_labels_EMO = 1\n",
        "\n",
        "def score(input_dir, output_dir):\n",
        "\t# unzipped submission data is always in the 'res' subdirectory\n",
        "\tsubmission_path = os.path.join(input_dir, 'res', 'predictions_EMP.tsv')\n",
        "\tif not os.path.exists(submission_path):\n",
        "\t\tprint('Could not find submission file {0}'.format(submission_path))\n",
        "\t\ttask1 = False\n",
        "\telse:\n",
        "\t\tsubmission_file = open(os.path.join(submission_path))\n",
        "\t\t# The 2 first columns\n",
        "\t\tpredictedList_EMP = [k[:nb_labels_EMP] for k in readFileToList(submission_file)]\n",
        "\t\ttask1 = True\n",
        "\n",
        "\t# unzipped submission data is always in the 'res' subdirectory\n",
        "\tsubmission_path = os.path.join(input_dir, 'res', 'predictions_EMO.tsv')\n",
        "\tif not os.path.exists(submission_path):\n",
        "\t\tprint('Could not find submission file {0}'.format(submission_path))\n",
        "\t\tpredictedList = predictedList_EMP\n",
        "\t\ttask2 = False\n",
        "\telse:\n",
        "\t\tsubmission_file = open(os.path.join(submission_path))\n",
        "\t\tpredictedList_EMO = [k[:nb_labels_EMO] for k in readFileToList(submission_file)]\n",
        "\n",
        "\t\tif task1:\n",
        "\t\t\t# concatening the lists of preds\n",
        "\t\t\tpredictedList = [i+j for i,j in zip(predictedList_EMP, predictedList_EMO)]\n",
        "\t\telse:\n",
        "\t\t\tpredictedList = [[0,0]+j for j in predictedList_EMO]\n",
        "\t\ttask2 = True\n",
        "\n",
        "\t# unzipped reference data is always in the 'res' subdirectory\n",
        "\ttruth_file = open(os.path.join(input_dir, 'res', 'predictions_EMP.tsv'))\n",
        "\tgoldList = readFileToList(truth_file)\n",
        "\tif (len(goldList) != len(predictedList)):\n",
        "\t\tprint(\"Number of labels is not aligned!\")\n",
        "\t\tsys.exit(1)\n",
        "\n",
        "\tavg_pearson, pearson_empathy, pearson_distress, micror, microp, microf, macror, macrop, macrof, accuracy = calculate_metrics(goldList,predictedList, task1, task2)\n",
        "\n",
        "\twith open(os.path.join(output_dir, 'scores.txt'), 'w') as output_file:\n",
        "\t\tstr_to_write = ''\n",
        "\t\t# Not sure of that. Useful if the participant want to do only one subtask. Need to see if the leaderboard of the subtask does not update if there are nothing on score.txt \n",
        "\t\tif task1:\n",
        "\t\t\tstr_to_write += \"Empathy Pearson Correlation: {0}\\nDistress Pearson Correlation: {1}\\nAveraged Pearson Correlations: {2}\\n\".format(pearson_empathy, pearson_distress, avg_pearson)\n",
        "\t\tif task2:\n",
        "\t\t\tstr_to_write += \"Micro Recall: {0}\\nMicro Precision: {1}\\nMicro F1-Score: {2}\\nMacro Recall: {3}\\nMacro Precision: {4}\\nMacro F1-Score: {5}\\nAccuracy: {6}\\n\".format(micror,microp,microf,macror,macrop,macrof,accuracy) \n",
        "\t\toutput_file.write(str_to_write)\n",
        "\n",
        "def main():\n",
        "  input_dir = \"/content/drive/MyDrive/WASSA\"\n",
        "  output_dir = \"/content/drive/MyDrive/WASSA\"\n",
        "  score(input_dir, output_dir)\n",
        "main()\n"
      ],
      "execution_count": null,
      "outputs": []
    },
    {
      "cell_type": "code",
      "metadata": {
        "id": "xdbOQCwrNeXx"
      },
      "source": [
        "nm = PATH+'/scores.txt'"
      ],
      "execution_count": null,
      "outputs": []
    }
  ]
}