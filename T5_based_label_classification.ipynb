{
  "nbformat": 4,
  "nbformat_minor": 0,
  "metadata": {
    "kernelspec": {
      "display_name": "Python 3",
      "language": "python",
      "name": "python3"
    },
    "language_info": {
      "codemirror_mode": {
        "name": "ipython",
        "version": 3
      },
      "file_extension": ".py",
      "mimetype": "text/x-python",
      "name": "python",
      "nbconvert_exporter": "python",
      "pygments_lexer": "ipython3",
      "version": "3.7.6"
    },
    "papermill": {
      "duration": 1739.49978,
      "end_time": "2020-08-24T16:10:31.548602",
      "environment_variables": {},
      "exception": null,
      "input_path": "__notebook__.ipynb",
      "output_path": "__notebook__.ipynb",
      "parameters": {},
      "start_time": "2020-08-24T15:41:32.048822",
      "version": "2.1.0"
    },
    "widgets": {
      "application/vnd.jupyter.widget-state+json": {
        "b87fc892be9749e685abd9bd55de2114": {
          "model_module": "@jupyter-widgets/controls",
          "model_name": "HBoxModel",
          "state": {
            "_view_name": "HBoxView",
            "_dom_classes": [],
            "_model_name": "HBoxModel",
            "_view_module": "@jupyter-widgets/controls",
            "_model_module_version": "1.5.0",
            "_view_count": null,
            "_view_module_version": "1.5.0",
            "box_style": "",
            "layout": "IPY_MODEL_626795dafda549e79517a10c841b69df",
            "_model_module": "@jupyter-widgets/controls",
            "children": [
              "IPY_MODEL_3714c282190b4bed9a9128ed7860daf4",
              "IPY_MODEL_827ed413b1974ce89e1922bd14873aff"
            ]
          }
        },
        "626795dafda549e79517a10c841b69df": {
          "model_module": "@jupyter-widgets/base",
          "model_name": "LayoutModel",
          "state": {
            "_view_name": "LayoutView",
            "grid_template_rows": null,
            "right": null,
            "justify_content": null,
            "_view_module": "@jupyter-widgets/base",
            "overflow": null,
            "_model_module_version": "1.2.0",
            "_view_count": null,
            "flex_flow": null,
            "width": null,
            "min_width": null,
            "border": null,
            "align_items": null,
            "bottom": null,
            "_model_module": "@jupyter-widgets/base",
            "top": null,
            "grid_column": null,
            "overflow_y": null,
            "overflow_x": null,
            "grid_auto_flow": null,
            "grid_area": null,
            "grid_template_columns": null,
            "flex": null,
            "_model_name": "LayoutModel",
            "justify_items": null,
            "grid_row": null,
            "max_height": null,
            "align_content": null,
            "visibility": null,
            "align_self": null,
            "height": null,
            "min_height": null,
            "padding": null,
            "grid_auto_rows": null,
            "grid_gap": null,
            "max_width": null,
            "order": null,
            "_view_module_version": "1.2.0",
            "grid_template_areas": null,
            "object_position": null,
            "object_fit": null,
            "grid_auto_columns": null,
            "margin": null,
            "display": null,
            "left": null
          }
        },
        "3714c282190b4bed9a9128ed7860daf4": {
          "model_module": "@jupyter-widgets/controls",
          "model_name": "FloatProgressModel",
          "state": {
            "_view_name": "ProgressView",
            "style": "IPY_MODEL_2b0ad4bc196849a89f0a5111fe5aa8ba",
            "_dom_classes": [],
            "description": "Downloading: 100%",
            "_model_name": "FloatProgressModel",
            "bar_style": "success",
            "max": 791656,
            "_view_module": "@jupyter-widgets/controls",
            "_model_module_version": "1.5.0",
            "value": 791656,
            "_view_count": null,
            "_view_module_version": "1.5.0",
            "orientation": "horizontal",
            "min": 0,
            "description_tooltip": null,
            "_model_module": "@jupyter-widgets/controls",
            "layout": "IPY_MODEL_21daec43b4fc401889619a350529a959"
          }
        },
        "827ed413b1974ce89e1922bd14873aff": {
          "model_module": "@jupyter-widgets/controls",
          "model_name": "HTMLModel",
          "state": {
            "_view_name": "HTMLView",
            "style": "IPY_MODEL_858821196958407a9955e57988e9c7a0",
            "_dom_classes": [],
            "description": "",
            "_model_name": "HTMLModel",
            "placeholder": "​",
            "_view_module": "@jupyter-widgets/controls",
            "_model_module_version": "1.5.0",
            "value": " 792k/792k [12:23&lt;00:00, 1.06kB/s]",
            "_view_count": null,
            "_view_module_version": "1.5.0",
            "description_tooltip": null,
            "_model_module": "@jupyter-widgets/controls",
            "layout": "IPY_MODEL_49b216f60b8d4509ac19117e428da7ad"
          }
        },
        "2b0ad4bc196849a89f0a5111fe5aa8ba": {
          "model_module": "@jupyter-widgets/controls",
          "model_name": "ProgressStyleModel",
          "state": {
            "_view_name": "StyleView",
            "_model_name": "ProgressStyleModel",
            "description_width": "initial",
            "_view_module": "@jupyter-widgets/base",
            "_model_module_version": "1.5.0",
            "_view_count": null,
            "_view_module_version": "1.2.0",
            "bar_color": null,
            "_model_module": "@jupyter-widgets/controls"
          }
        },
        "21daec43b4fc401889619a350529a959": {
          "model_module": "@jupyter-widgets/base",
          "model_name": "LayoutModel",
          "state": {
            "_view_name": "LayoutView",
            "grid_template_rows": null,
            "right": null,
            "justify_content": null,
            "_view_module": "@jupyter-widgets/base",
            "overflow": null,
            "_model_module_version": "1.2.0",
            "_view_count": null,
            "flex_flow": null,
            "width": null,
            "min_width": null,
            "border": null,
            "align_items": null,
            "bottom": null,
            "_model_module": "@jupyter-widgets/base",
            "top": null,
            "grid_column": null,
            "overflow_y": null,
            "overflow_x": null,
            "grid_auto_flow": null,
            "grid_area": null,
            "grid_template_columns": null,
            "flex": null,
            "_model_name": "LayoutModel",
            "justify_items": null,
            "grid_row": null,
            "max_height": null,
            "align_content": null,
            "visibility": null,
            "align_self": null,
            "height": null,
            "min_height": null,
            "padding": null,
            "grid_auto_rows": null,
            "grid_gap": null,
            "max_width": null,
            "order": null,
            "_view_module_version": "1.2.0",
            "grid_template_areas": null,
            "object_position": null,
            "object_fit": null,
            "grid_auto_columns": null,
            "margin": null,
            "display": null,
            "left": null
          }
        },
        "858821196958407a9955e57988e9c7a0": {
          "model_module": "@jupyter-widgets/controls",
          "model_name": "DescriptionStyleModel",
          "state": {
            "_view_name": "StyleView",
            "_model_name": "DescriptionStyleModel",
            "description_width": "",
            "_view_module": "@jupyter-widgets/base",
            "_model_module_version": "1.5.0",
            "_view_count": null,
            "_view_module_version": "1.2.0",
            "_model_module": "@jupyter-widgets/controls"
          }
        },
        "49b216f60b8d4509ac19117e428da7ad": {
          "model_module": "@jupyter-widgets/base",
          "model_name": "LayoutModel",
          "state": {
            "_view_name": "LayoutView",
            "grid_template_rows": null,
            "right": null,
            "justify_content": null,
            "_view_module": "@jupyter-widgets/base",
            "overflow": null,
            "_model_module_version": "1.2.0",
            "_view_count": null,
            "flex_flow": null,
            "width": null,
            "min_width": null,
            "border": null,
            "align_items": null,
            "bottom": null,
            "_model_module": "@jupyter-widgets/base",
            "top": null,
            "grid_column": null,
            "overflow_y": null,
            "overflow_x": null,
            "grid_auto_flow": null,
            "grid_area": null,
            "grid_template_columns": null,
            "flex": null,
            "_model_name": "LayoutModel",
            "justify_items": null,
            "grid_row": null,
            "max_height": null,
            "align_content": null,
            "visibility": null,
            "align_self": null,
            "height": null,
            "min_height": null,
            "padding": null,
            "grid_auto_rows": null,
            "grid_gap": null,
            "max_width": null,
            "order": null,
            "_view_module_version": "1.2.0",
            "grid_template_areas": null,
            "object_position": null,
            "object_fit": null,
            "grid_auto_columns": null,
            "margin": null,
            "display": null,
            "left": null
          }
        },
        "aa93e1c1e4804769ae851c292eda9ad1": {
          "model_module": "@jupyter-widgets/controls",
          "model_name": "HBoxModel",
          "state": {
            "_view_name": "HBoxView",
            "_dom_classes": [],
            "_model_name": "HBoxModel",
            "_view_module": "@jupyter-widgets/controls",
            "_model_module_version": "1.5.0",
            "_view_count": null,
            "_view_module_version": "1.5.0",
            "box_style": "",
            "layout": "IPY_MODEL_f41e0741e460403f98b544271e5bc15e",
            "_model_module": "@jupyter-widgets/controls",
            "children": [
              "IPY_MODEL_d304251b347d47d29c2f614a291db00b",
              "IPY_MODEL_c1c05edd83d3496e89c195c2b47f2cc1"
            ]
          }
        },
        "f41e0741e460403f98b544271e5bc15e": {
          "model_module": "@jupyter-widgets/base",
          "model_name": "LayoutModel",
          "state": {
            "_view_name": "LayoutView",
            "grid_template_rows": null,
            "right": null,
            "justify_content": null,
            "_view_module": "@jupyter-widgets/base",
            "overflow": null,
            "_model_module_version": "1.2.0",
            "_view_count": null,
            "flex_flow": null,
            "width": null,
            "min_width": null,
            "border": null,
            "align_items": null,
            "bottom": null,
            "_model_module": "@jupyter-widgets/base",
            "top": null,
            "grid_column": null,
            "overflow_y": null,
            "overflow_x": null,
            "grid_auto_flow": null,
            "grid_area": null,
            "grid_template_columns": null,
            "flex": null,
            "_model_name": "LayoutModel",
            "justify_items": null,
            "grid_row": null,
            "max_height": null,
            "align_content": null,
            "visibility": null,
            "align_self": null,
            "height": null,
            "min_height": null,
            "padding": null,
            "grid_auto_rows": null,
            "grid_gap": null,
            "max_width": null,
            "order": null,
            "_view_module_version": "1.2.0",
            "grid_template_areas": null,
            "object_position": null,
            "object_fit": null,
            "grid_auto_columns": null,
            "margin": null,
            "display": null,
            "left": null
          }
        },
        "d304251b347d47d29c2f614a291db00b": {
          "model_module": "@jupyter-widgets/controls",
          "model_name": "FloatProgressModel",
          "state": {
            "_view_name": "ProgressView",
            "style": "IPY_MODEL_80ee06c0d5e94b6395986992da362352",
            "_dom_classes": [],
            "description": "Downloading: 100%",
            "_model_name": "FloatProgressModel",
            "bar_style": "success",
            "max": 1786,
            "_view_module": "@jupyter-widgets/controls",
            "_model_module_version": "1.5.0",
            "value": 1786,
            "_view_count": null,
            "_view_module_version": "1.5.0",
            "orientation": "horizontal",
            "min": 0,
            "description_tooltip": null,
            "_model_module": "@jupyter-widgets/controls",
            "layout": "IPY_MODEL_9b4bd7ce640942f693ee8c18b8b09b91"
          }
        },
        "c1c05edd83d3496e89c195c2b47f2cc1": {
          "model_module": "@jupyter-widgets/controls",
          "model_name": "HTMLModel",
          "state": {
            "_view_name": "HTMLView",
            "style": "IPY_MODEL_9401d5bfc12b4550a30c0059bbead91d",
            "_dom_classes": [],
            "description": "",
            "_model_name": "HTMLModel",
            "placeholder": "​",
            "_view_module": "@jupyter-widgets/controls",
            "_model_module_version": "1.5.0",
            "value": " 1.79k/1.79k [00:14&lt;00:00, 120B/s]",
            "_view_count": null,
            "_view_module_version": "1.5.0",
            "description_tooltip": null,
            "_model_module": "@jupyter-widgets/controls",
            "layout": "IPY_MODEL_94fc0820594f46cf8719410880070d79"
          }
        },
        "80ee06c0d5e94b6395986992da362352": {
          "model_module": "@jupyter-widgets/controls",
          "model_name": "ProgressStyleModel",
          "state": {
            "_view_name": "StyleView",
            "_model_name": "ProgressStyleModel",
            "description_width": "initial",
            "_view_module": "@jupyter-widgets/base",
            "_model_module_version": "1.5.0",
            "_view_count": null,
            "_view_module_version": "1.2.0",
            "bar_color": null,
            "_model_module": "@jupyter-widgets/controls"
          }
        },
        "9b4bd7ce640942f693ee8c18b8b09b91": {
          "model_module": "@jupyter-widgets/base",
          "model_name": "LayoutModel",
          "state": {
            "_view_name": "LayoutView",
            "grid_template_rows": null,
            "right": null,
            "justify_content": null,
            "_view_module": "@jupyter-widgets/base",
            "overflow": null,
            "_model_module_version": "1.2.0",
            "_view_count": null,
            "flex_flow": null,
            "width": null,
            "min_width": null,
            "border": null,
            "align_items": null,
            "bottom": null,
            "_model_module": "@jupyter-widgets/base",
            "top": null,
            "grid_column": null,
            "overflow_y": null,
            "overflow_x": null,
            "grid_auto_flow": null,
            "grid_area": null,
            "grid_template_columns": null,
            "flex": null,
            "_model_name": "LayoutModel",
            "justify_items": null,
            "grid_row": null,
            "max_height": null,
            "align_content": null,
            "visibility": null,
            "align_self": null,
            "height": null,
            "min_height": null,
            "padding": null,
            "grid_auto_rows": null,
            "grid_gap": null,
            "max_width": null,
            "order": null,
            "_view_module_version": "1.2.0",
            "grid_template_areas": null,
            "object_position": null,
            "object_fit": null,
            "grid_auto_columns": null,
            "margin": null,
            "display": null,
            "left": null
          }
        },
        "9401d5bfc12b4550a30c0059bbead91d": {
          "model_module": "@jupyter-widgets/controls",
          "model_name": "DescriptionStyleModel",
          "state": {
            "_view_name": "StyleView",
            "_model_name": "DescriptionStyleModel",
            "description_width": "",
            "_view_module": "@jupyter-widgets/base",
            "_model_module_version": "1.5.0",
            "_view_count": null,
            "_view_module_version": "1.2.0",
            "_model_module": "@jupyter-widgets/controls"
          }
        },
        "94fc0820594f46cf8719410880070d79": {
          "model_module": "@jupyter-widgets/base",
          "model_name": "LayoutModel",
          "state": {
            "_view_name": "LayoutView",
            "grid_template_rows": null,
            "right": null,
            "justify_content": null,
            "_view_module": "@jupyter-widgets/base",
            "overflow": null,
            "_model_module_version": "1.2.0",
            "_view_count": null,
            "flex_flow": null,
            "width": null,
            "min_width": null,
            "border": null,
            "align_items": null,
            "bottom": null,
            "_model_module": "@jupyter-widgets/base",
            "top": null,
            "grid_column": null,
            "overflow_y": null,
            "overflow_x": null,
            "grid_auto_flow": null,
            "grid_area": null,
            "grid_template_columns": null,
            "flex": null,
            "_model_name": "LayoutModel",
            "justify_items": null,
            "grid_row": null,
            "max_height": null,
            "align_content": null,
            "visibility": null,
            "align_self": null,
            "height": null,
            "min_height": null,
            "padding": null,
            "grid_auto_rows": null,
            "grid_gap": null,
            "max_width": null,
            "order": null,
            "_view_module_version": "1.2.0",
            "grid_template_areas": null,
            "object_position": null,
            "object_fit": null,
            "grid_auto_columns": null,
            "margin": null,
            "display": null,
            "left": null
          }
        },
        "fba76735eadf4fad8ba8f414602b4f14": {
          "model_module": "@jupyter-widgets/controls",
          "model_name": "HBoxModel",
          "state": {
            "_view_name": "HBoxView",
            "_dom_classes": [],
            "_model_name": "HBoxModel",
            "_view_module": "@jupyter-widgets/controls",
            "_model_module_version": "1.5.0",
            "_view_count": null,
            "_view_module_version": "1.5.0",
            "box_style": "",
            "layout": "IPY_MODEL_bf74dbc0ce0940438e1b696d5ce511cf",
            "_model_module": "@jupyter-widgets/controls",
            "children": [
              "IPY_MODEL_11d3783cf05e4194a5e8627e573fe41d",
              "IPY_MODEL_05ff7eeb1bc54e49a284fd5676837685"
            ]
          }
        },
        "bf74dbc0ce0940438e1b696d5ce511cf": {
          "model_module": "@jupyter-widgets/base",
          "model_name": "LayoutModel",
          "state": {
            "_view_name": "LayoutView",
            "grid_template_rows": null,
            "right": null,
            "justify_content": null,
            "_view_module": "@jupyter-widgets/base",
            "overflow": null,
            "_model_module_version": "1.2.0",
            "_view_count": null,
            "flex_flow": null,
            "width": null,
            "min_width": null,
            "border": null,
            "align_items": null,
            "bottom": null,
            "_model_module": "@jupyter-widgets/base",
            "top": null,
            "grid_column": null,
            "overflow_y": null,
            "overflow_x": null,
            "grid_auto_flow": null,
            "grid_area": null,
            "grid_template_columns": null,
            "flex": null,
            "_model_name": "LayoutModel",
            "justify_items": null,
            "grid_row": null,
            "max_height": null,
            "align_content": null,
            "visibility": null,
            "align_self": null,
            "height": null,
            "min_height": null,
            "padding": null,
            "grid_auto_rows": null,
            "grid_gap": null,
            "max_width": null,
            "order": null,
            "_view_module_version": "1.2.0",
            "grid_template_areas": null,
            "object_position": null,
            "object_fit": null,
            "grid_auto_columns": null,
            "margin": null,
            "display": null,
            "left": null
          }
        },
        "11d3783cf05e4194a5e8627e573fe41d": {
          "model_module": "@jupyter-widgets/controls",
          "model_name": "FloatProgressModel",
          "state": {
            "_view_name": "ProgressView",
            "style": "IPY_MODEL_fc838ad00d7f4c929bfdf4a8eb4eec7b",
            "_dom_classes": [],
            "description": "Downloading: 100%",
            "_model_name": "FloatProgressModel",
            "bar_style": "success",
            "max": 25,
            "_view_module": "@jupyter-widgets/controls",
            "_model_module_version": "1.5.0",
            "value": 25,
            "_view_count": null,
            "_view_module_version": "1.5.0",
            "orientation": "horizontal",
            "min": 0,
            "description_tooltip": null,
            "_model_module": "@jupyter-widgets/controls",
            "layout": "IPY_MODEL_62019f7e5d9f4db7825cfb68dab50833"
          }
        },
        "05ff7eeb1bc54e49a284fd5676837685": {
          "model_module": "@jupyter-widgets/controls",
          "model_name": "HTMLModel",
          "state": {
            "_view_name": "HTMLView",
            "style": "IPY_MODEL_d2fbc9dd0612411994fbad469bd93cdb",
            "_dom_classes": [],
            "description": "",
            "_model_name": "HTMLModel",
            "placeholder": "​",
            "_view_module": "@jupyter-widgets/controls",
            "_model_module_version": "1.5.0",
            "value": " 25.0/25.0 [00:14&lt;00:00, 1.75B/s]",
            "_view_count": null,
            "_view_module_version": "1.5.0",
            "description_tooltip": null,
            "_model_module": "@jupyter-widgets/controls",
            "layout": "IPY_MODEL_2d48b490149e4617b7c50a1b1ccba31c"
          }
        },
        "fc838ad00d7f4c929bfdf4a8eb4eec7b": {
          "model_module": "@jupyter-widgets/controls",
          "model_name": "ProgressStyleModel",
          "state": {
            "_view_name": "StyleView",
            "_model_name": "ProgressStyleModel",
            "description_width": "initial",
            "_view_module": "@jupyter-widgets/base",
            "_model_module_version": "1.5.0",
            "_view_count": null,
            "_view_module_version": "1.2.0",
            "bar_color": null,
            "_model_module": "@jupyter-widgets/controls"
          }
        },
        "62019f7e5d9f4db7825cfb68dab50833": {
          "model_module": "@jupyter-widgets/base",
          "model_name": "LayoutModel",
          "state": {
            "_view_name": "LayoutView",
            "grid_template_rows": null,
            "right": null,
            "justify_content": null,
            "_view_module": "@jupyter-widgets/base",
            "overflow": null,
            "_model_module_version": "1.2.0",
            "_view_count": null,
            "flex_flow": null,
            "width": null,
            "min_width": null,
            "border": null,
            "align_items": null,
            "bottom": null,
            "_model_module": "@jupyter-widgets/base",
            "top": null,
            "grid_column": null,
            "overflow_y": null,
            "overflow_x": null,
            "grid_auto_flow": null,
            "grid_area": null,
            "grid_template_columns": null,
            "flex": null,
            "_model_name": "LayoutModel",
            "justify_items": null,
            "grid_row": null,
            "max_height": null,
            "align_content": null,
            "visibility": null,
            "align_self": null,
            "height": null,
            "min_height": null,
            "padding": null,
            "grid_auto_rows": null,
            "grid_gap": null,
            "max_width": null,
            "order": null,
            "_view_module_version": "1.2.0",
            "grid_template_areas": null,
            "object_position": null,
            "object_fit": null,
            "grid_auto_columns": null,
            "margin": null,
            "display": null,
            "left": null
          }
        },
        "d2fbc9dd0612411994fbad469bd93cdb": {
          "model_module": "@jupyter-widgets/controls",
          "model_name": "DescriptionStyleModel",
          "state": {
            "_view_name": "StyleView",
            "_model_name": "DescriptionStyleModel",
            "description_width": "",
            "_view_module": "@jupyter-widgets/base",
            "_model_module_version": "1.5.0",
            "_view_count": null,
            "_view_module_version": "1.2.0",
            "_model_module": "@jupyter-widgets/controls"
          }
        },
        "2d48b490149e4617b7c50a1b1ccba31c": {
          "model_module": "@jupyter-widgets/base",
          "model_name": "LayoutModel",
          "state": {
            "_view_name": "LayoutView",
            "grid_template_rows": null,
            "right": null,
            "justify_content": null,
            "_view_module": "@jupyter-widgets/base",
            "overflow": null,
            "_model_module_version": "1.2.0",
            "_view_count": null,
            "flex_flow": null,
            "width": null,
            "min_width": null,
            "border": null,
            "align_items": null,
            "bottom": null,
            "_model_module": "@jupyter-widgets/base",
            "top": null,
            "grid_column": null,
            "overflow_y": null,
            "overflow_x": null,
            "grid_auto_flow": null,
            "grid_area": null,
            "grid_template_columns": null,
            "flex": null,
            "_model_name": "LayoutModel",
            "justify_items": null,
            "grid_row": null,
            "max_height": null,
            "align_content": null,
            "visibility": null,
            "align_self": null,
            "height": null,
            "min_height": null,
            "padding": null,
            "grid_auto_rows": null,
            "grid_gap": null,
            "max_width": null,
            "order": null,
            "_view_module_version": "1.2.0",
            "grid_template_areas": null,
            "object_position": null,
            "object_fit": null,
            "grid_auto_columns": null,
            "margin": null,
            "display": null,
            "left": null
          }
        },
        "b38f46875c604f7cabe8880dc2d1e411": {
          "model_module": "@jupyter-widgets/controls",
          "model_name": "HBoxModel",
          "state": {
            "_view_name": "HBoxView",
            "_dom_classes": [],
            "_model_name": "HBoxModel",
            "_view_module": "@jupyter-widgets/controls",
            "_model_module_version": "1.5.0",
            "_view_count": null,
            "_view_module_version": "1.5.0",
            "box_style": "",
            "layout": "IPY_MODEL_ff504a0ac7f34849909601852bab1ca9",
            "_model_module": "@jupyter-widgets/controls",
            "children": [
              "IPY_MODEL_88ffb7558fc04300a02635c281606510",
              "IPY_MODEL_d3081adf66bc4249a49903667dfd7195"
            ]
          }
        },
        "ff504a0ac7f34849909601852bab1ca9": {
          "model_module": "@jupyter-widgets/base",
          "model_name": "LayoutModel",
          "state": {
            "_view_name": "LayoutView",
            "grid_template_rows": null,
            "right": null,
            "justify_content": null,
            "_view_module": "@jupyter-widgets/base",
            "overflow": null,
            "_model_module_version": "1.2.0",
            "_view_count": null,
            "flex_flow": null,
            "width": null,
            "min_width": null,
            "border": null,
            "align_items": null,
            "bottom": null,
            "_model_module": "@jupyter-widgets/base",
            "top": null,
            "grid_column": null,
            "overflow_y": null,
            "overflow_x": null,
            "grid_auto_flow": null,
            "grid_area": null,
            "grid_template_columns": null,
            "flex": null,
            "_model_name": "LayoutModel",
            "justify_items": null,
            "grid_row": null,
            "max_height": null,
            "align_content": null,
            "visibility": null,
            "align_self": null,
            "height": null,
            "min_height": null,
            "padding": null,
            "grid_auto_rows": null,
            "grid_gap": null,
            "max_width": null,
            "order": null,
            "_view_module_version": "1.2.0",
            "grid_template_areas": null,
            "object_position": null,
            "object_fit": null,
            "grid_auto_columns": null,
            "margin": null,
            "display": null,
            "left": null
          }
        },
        "88ffb7558fc04300a02635c281606510": {
          "model_module": "@jupyter-widgets/controls",
          "model_name": "FloatProgressModel",
          "state": {
            "_view_name": "ProgressView",
            "style": "IPY_MODEL_ed16431ce8854a57a5692516cf5b461a",
            "_dom_classes": [],
            "description": "100%",
            "_model_name": "FloatProgressModel",
            "bar_style": "success",
            "max": 34,
            "_view_module": "@jupyter-widgets/controls",
            "_model_module_version": "1.5.0",
            "value": 34,
            "_view_count": null,
            "_view_module_version": "1.5.0",
            "orientation": "horizontal",
            "min": 0,
            "description_tooltip": null,
            "_model_module": "@jupyter-widgets/controls",
            "layout": "IPY_MODEL_4787f308759e4601bb04e36c0137b99a"
          }
        },
        "d3081adf66bc4249a49903667dfd7195": {
          "model_module": "@jupyter-widgets/controls",
          "model_name": "HTMLModel",
          "state": {
            "_view_name": "HTMLView",
            "style": "IPY_MODEL_d9d6540cb47640ad8c1c453ec2e01060",
            "_dom_classes": [],
            "description": "",
            "_model_name": "HTMLModel",
            "placeholder": "​",
            "_view_module": "@jupyter-widgets/controls",
            "_model_module_version": "1.5.0",
            "value": " 34/34 [00:11&lt;00:00,  2.99it/s]",
            "_view_count": null,
            "_view_module_version": "1.5.0",
            "description_tooltip": null,
            "_model_module": "@jupyter-widgets/controls",
            "layout": "IPY_MODEL_cc0668feae6e4de18f8b0a57e3b4757e"
          }
        },
        "ed16431ce8854a57a5692516cf5b461a": {
          "model_module": "@jupyter-widgets/controls",
          "model_name": "ProgressStyleModel",
          "state": {
            "_view_name": "StyleView",
            "_model_name": "ProgressStyleModel",
            "description_width": "initial",
            "_view_module": "@jupyter-widgets/base",
            "_model_module_version": "1.5.0",
            "_view_count": null,
            "_view_module_version": "1.2.0",
            "bar_color": null,
            "_model_module": "@jupyter-widgets/controls"
          }
        },
        "4787f308759e4601bb04e36c0137b99a": {
          "model_module": "@jupyter-widgets/base",
          "model_name": "LayoutModel",
          "state": {
            "_view_name": "LayoutView",
            "grid_template_rows": null,
            "right": null,
            "justify_content": null,
            "_view_module": "@jupyter-widgets/base",
            "overflow": null,
            "_model_module_version": "1.2.0",
            "_view_count": null,
            "flex_flow": null,
            "width": null,
            "min_width": null,
            "border": null,
            "align_items": null,
            "bottom": null,
            "_model_module": "@jupyter-widgets/base",
            "top": null,
            "grid_column": null,
            "overflow_y": null,
            "overflow_x": null,
            "grid_auto_flow": null,
            "grid_area": null,
            "grid_template_columns": null,
            "flex": null,
            "_model_name": "LayoutModel",
            "justify_items": null,
            "grid_row": null,
            "max_height": null,
            "align_content": null,
            "visibility": null,
            "align_self": null,
            "height": null,
            "min_height": null,
            "padding": null,
            "grid_auto_rows": null,
            "grid_gap": null,
            "max_width": null,
            "order": null,
            "_view_module_version": "1.2.0",
            "grid_template_areas": null,
            "object_position": null,
            "object_fit": null,
            "grid_auto_columns": null,
            "margin": null,
            "display": null,
            "left": null
          }
        },
        "d9d6540cb47640ad8c1c453ec2e01060": {
          "model_module": "@jupyter-widgets/controls",
          "model_name": "DescriptionStyleModel",
          "state": {
            "_view_name": "StyleView",
            "_model_name": "DescriptionStyleModel",
            "description_width": "",
            "_view_module": "@jupyter-widgets/base",
            "_model_module_version": "1.5.0",
            "_view_count": null,
            "_view_module_version": "1.2.0",
            "_model_module": "@jupyter-widgets/controls"
          }
        },
        "cc0668feae6e4de18f8b0a57e3b4757e": {
          "model_module": "@jupyter-widgets/base",
          "model_name": "LayoutModel",
          "state": {
            "_view_name": "LayoutView",
            "grid_template_rows": null,
            "right": null,
            "justify_content": null,
            "_view_module": "@jupyter-widgets/base",
            "overflow": null,
            "_model_module_version": "1.2.0",
            "_view_count": null,
            "flex_flow": null,
            "width": null,
            "min_width": null,
            "border": null,
            "align_items": null,
            "bottom": null,
            "_model_module": "@jupyter-widgets/base",
            "top": null,
            "grid_column": null,
            "overflow_y": null,
            "overflow_x": null,
            "grid_auto_flow": null,
            "grid_area": null,
            "grid_template_columns": null,
            "flex": null,
            "_model_name": "LayoutModel",
            "justify_items": null,
            "grid_row": null,
            "max_height": null,
            "align_content": null,
            "visibility": null,
            "align_self": null,
            "height": null,
            "min_height": null,
            "padding": null,
            "grid_auto_rows": null,
            "grid_gap": null,
            "max_width": null,
            "order": null,
            "_view_module_version": "1.2.0",
            "grid_template_areas": null,
            "object_position": null,
            "object_fit": null,
            "grid_auto_columns": null,
            "margin": null,
            "display": null,
            "left": null
          }
        },
        "a79c820783bf4ed292a421a4121125a3": {
          "model_module": "@jupyter-widgets/controls",
          "model_name": "HBoxModel",
          "state": {
            "_view_name": "HBoxView",
            "_dom_classes": [],
            "_model_name": "HBoxModel",
            "_view_module": "@jupyter-widgets/controls",
            "_model_module_version": "1.5.0",
            "_view_count": null,
            "_view_module_version": "1.5.0",
            "box_style": "",
            "layout": "IPY_MODEL_f2393d97e2424942bbc7cc3ef12bf9d1",
            "_model_module": "@jupyter-widgets/controls",
            "children": [
              "IPY_MODEL_bad90ae0cfac4ff7acd496c8a2fbcd23",
              "IPY_MODEL_348a9adf52054c429a79a3eb71ca7d5b"
            ]
          }
        },
        "f2393d97e2424942bbc7cc3ef12bf9d1": {
          "model_module": "@jupyter-widgets/base",
          "model_name": "LayoutModel",
          "state": {
            "_view_name": "LayoutView",
            "grid_template_rows": null,
            "right": null,
            "justify_content": null,
            "_view_module": "@jupyter-widgets/base",
            "overflow": null,
            "_model_module_version": "1.2.0",
            "_view_count": null,
            "flex_flow": null,
            "width": null,
            "min_width": null,
            "border": null,
            "align_items": null,
            "bottom": null,
            "_model_module": "@jupyter-widgets/base",
            "top": null,
            "grid_column": null,
            "overflow_y": null,
            "overflow_x": null,
            "grid_auto_flow": null,
            "grid_area": null,
            "grid_template_columns": null,
            "flex": null,
            "_model_name": "LayoutModel",
            "justify_items": null,
            "grid_row": null,
            "max_height": null,
            "align_content": null,
            "visibility": null,
            "align_self": null,
            "height": null,
            "min_height": null,
            "padding": null,
            "grid_auto_rows": null,
            "grid_gap": null,
            "max_width": null,
            "order": null,
            "_view_module_version": "1.2.0",
            "grid_template_areas": null,
            "object_position": null,
            "object_fit": null,
            "grid_auto_columns": null,
            "margin": null,
            "display": null,
            "left": null
          }
        },
        "bad90ae0cfac4ff7acd496c8a2fbcd23": {
          "model_module": "@jupyter-widgets/controls",
          "model_name": "FloatProgressModel",
          "state": {
            "_view_name": "ProgressView",
            "style": "IPY_MODEL_8beff873d4ea48f7b37df8b63bafe35d",
            "_dom_classes": [],
            "description": "100%",
            "_model_name": "FloatProgressModel",
            "bar_style": "success",
            "max": 66,
            "_view_module": "@jupyter-widgets/controls",
            "_model_module_version": "1.5.0",
            "value": 66,
            "_view_count": null,
            "_view_module_version": "1.5.0",
            "orientation": "horizontal",
            "min": 0,
            "description_tooltip": null,
            "_model_module": "@jupyter-widgets/controls",
            "layout": "IPY_MODEL_086aa1f16ba64afaab4ed9ace3ea69b0"
          }
        },
        "348a9adf52054c429a79a3eb71ca7d5b": {
          "model_module": "@jupyter-widgets/controls",
          "model_name": "HTMLModel",
          "state": {
            "_view_name": "HTMLView",
            "style": "IPY_MODEL_f79a030d7b2a47e7845af22822630014",
            "_dom_classes": [],
            "description": "",
            "_model_name": "HTMLModel",
            "placeholder": "​",
            "_view_module": "@jupyter-widgets/controls",
            "_model_module_version": "1.5.0",
            "value": " 66/66 [00:16&lt;00:00,  3.94it/s]",
            "_view_count": null,
            "_view_module_version": "1.5.0",
            "description_tooltip": null,
            "_model_module": "@jupyter-widgets/controls",
            "layout": "IPY_MODEL_4b1da11641b0455e9ad0842566d31984"
          }
        },
        "8beff873d4ea48f7b37df8b63bafe35d": {
          "model_module": "@jupyter-widgets/controls",
          "model_name": "ProgressStyleModel",
          "state": {
            "_view_name": "StyleView",
            "_model_name": "ProgressStyleModel",
            "description_width": "initial",
            "_view_module": "@jupyter-widgets/base",
            "_model_module_version": "1.5.0",
            "_view_count": null,
            "_view_module_version": "1.2.0",
            "bar_color": null,
            "_model_module": "@jupyter-widgets/controls"
          }
        },
        "086aa1f16ba64afaab4ed9ace3ea69b0": {
          "model_module": "@jupyter-widgets/base",
          "model_name": "LayoutModel",
          "state": {
            "_view_name": "LayoutView",
            "grid_template_rows": null,
            "right": null,
            "justify_content": null,
            "_view_module": "@jupyter-widgets/base",
            "overflow": null,
            "_model_module_version": "1.2.0",
            "_view_count": null,
            "flex_flow": null,
            "width": null,
            "min_width": null,
            "border": null,
            "align_items": null,
            "bottom": null,
            "_model_module": "@jupyter-widgets/base",
            "top": null,
            "grid_column": null,
            "overflow_y": null,
            "overflow_x": null,
            "grid_auto_flow": null,
            "grid_area": null,
            "grid_template_columns": null,
            "flex": null,
            "_model_name": "LayoutModel",
            "justify_items": null,
            "grid_row": null,
            "max_height": null,
            "align_content": null,
            "visibility": null,
            "align_self": null,
            "height": null,
            "min_height": null,
            "padding": null,
            "grid_auto_rows": null,
            "grid_gap": null,
            "max_width": null,
            "order": null,
            "_view_module_version": "1.2.0",
            "grid_template_areas": null,
            "object_position": null,
            "object_fit": null,
            "grid_auto_columns": null,
            "margin": null,
            "display": null,
            "left": null
          }
        },
        "f79a030d7b2a47e7845af22822630014": {
          "model_module": "@jupyter-widgets/controls",
          "model_name": "DescriptionStyleModel",
          "state": {
            "_view_name": "StyleView",
            "_model_name": "DescriptionStyleModel",
            "description_width": "",
            "_view_module": "@jupyter-widgets/base",
            "_model_module_version": "1.5.0",
            "_view_count": null,
            "_view_module_version": "1.2.0",
            "_model_module": "@jupyter-widgets/controls"
          }
        },
        "4b1da11641b0455e9ad0842566d31984": {
          "model_module": "@jupyter-widgets/base",
          "model_name": "LayoutModel",
          "state": {
            "_view_name": "LayoutView",
            "grid_template_rows": null,
            "right": null,
            "justify_content": null,
            "_view_module": "@jupyter-widgets/base",
            "overflow": null,
            "_model_module_version": "1.2.0",
            "_view_count": null,
            "flex_flow": null,
            "width": null,
            "min_width": null,
            "border": null,
            "align_items": null,
            "bottom": null,
            "_model_module": "@jupyter-widgets/base",
            "top": null,
            "grid_column": null,
            "overflow_y": null,
            "overflow_x": null,
            "grid_auto_flow": null,
            "grid_area": null,
            "grid_template_columns": null,
            "flex": null,
            "_model_name": "LayoutModel",
            "justify_items": null,
            "grid_row": null,
            "max_height": null,
            "align_content": null,
            "visibility": null,
            "align_self": null,
            "height": null,
            "min_height": null,
            "padding": null,
            "grid_auto_rows": null,
            "grid_gap": null,
            "max_width": null,
            "order": null,
            "_view_module_version": "1.2.0",
            "grid_template_areas": null,
            "object_position": null,
            "object_fit": null,
            "grid_auto_columns": null,
            "margin": null,
            "display": null,
            "left": null
          }
        }
      }
    },
    "colab": {
      "name": "T5_based_label_classification.ipynb",
      "provenance": [],
      "collapsed_sections": []
    },
    "accelerator": "GPU"
  },
  "cells": [
    {
      "cell_type": "code",
      "metadata": {
        "colab": {
          "base_uri": "https://localhost:8080/"
        },
        "id": "4G4FnQ0QkpxI",
        "outputId": "903b2b24-7616-4e55-a78b-bd0f9fb85a98"
      },
      "source": [
        "from google.colab import drive\n",
        "drive.mount('/content/drive')"
      ],
      "execution_count": null,
      "outputs": [
        {
          "output_type": "stream",
          "text": [
            "Mounted at /content/drive\n"
          ],
          "name": "stdout"
        }
      ]
    },
    {
      "cell_type": "markdown",
      "metadata": {
        "id": "vr-nvX_HT4_K",
        "papermill": {
          "duration": 0.009929,
          "end_time": "2020-08-24T15:41:36.524183",
          "exception": false,
          "start_time": "2020-08-24T15:41:36.514254",
          "status": "completed"
        },
        "tags": []
      },
      "source": [
        "# Imports"
      ]
    },
    {
      "cell_type": "code",
      "metadata": {
        "execution": {
          "iopub.execute_input": "2020-08-24T15:41:36.569097Z",
          "iopub.status.busy": "2020-08-24T15:41:36.568251Z",
          "iopub.status.idle": "2020-08-24T15:41:36.571375Z",
          "shell.execute_reply": "2020-08-24T15:41:36.570852Z"
        },
        "id": "9J7Ws11-9PqG",
        "papermill": {
          "duration": 0.016695,
          "end_time": "2020-08-24T15:41:36.571483",
          "exception": false,
          "start_time": "2020-08-24T15:41:36.554788",
          "status": "completed"
        },
        "tags": [],
        "colab": {
          "base_uri": "https://localhost:8080/"
        },
        "outputId": "8e7d9eb9-a16b-4e7d-c752-c0e0ca8f6c6d"
      },
      "source": [
        "!pip3 install transformers"
      ],
      "execution_count": null,
      "outputs": [
        {
          "output_type": "stream",
          "text": [
            "Collecting transformers\n",
            "\u001b[?25l  Downloading https://files.pythonhosted.org/packages/f9/54/5ca07ec9569d2f232f3166de5457b63943882f7950ddfcc887732fc7fb23/transformers-4.3.3-py3-none-any.whl (1.9MB)\n",
            "\u001b[K     |████████████████████████████████| 1.9MB 11.7MB/s \n",
            "\u001b[?25hRequirement already satisfied: importlib-metadata; python_version < \"3.8\" in /usr/local/lib/python3.7/dist-packages (from transformers) (3.7.0)\n",
            "Requirement already satisfied: numpy>=1.17 in /usr/local/lib/python3.7/dist-packages (from transformers) (1.19.5)\n",
            "Requirement already satisfied: regex!=2019.12.17 in /usr/local/lib/python3.7/dist-packages (from transformers) (2019.12.20)\n",
            "Requirement already satisfied: packaging in /usr/local/lib/python3.7/dist-packages (from transformers) (20.9)\n",
            "Requirement already satisfied: requests in /usr/local/lib/python3.7/dist-packages (from transformers) (2.23.0)\n",
            "Requirement already satisfied: filelock in /usr/local/lib/python3.7/dist-packages (from transformers) (3.0.12)\n",
            "Collecting sacremoses\n",
            "\u001b[?25l  Downloading https://files.pythonhosted.org/packages/7d/34/09d19aff26edcc8eb2a01bed8e98f13a1537005d31e95233fd48216eed10/sacremoses-0.0.43.tar.gz (883kB)\n",
            "\u001b[K     |████████████████████████████████| 890kB 47.3MB/s \n",
            "\u001b[?25hCollecting tokenizers<0.11,>=0.10.1\n",
            "\u001b[?25l  Downloading https://files.pythonhosted.org/packages/71/23/2ddc317b2121117bf34dd00f5b0de194158f2a44ee2bf5e47c7166878a97/tokenizers-0.10.1-cp37-cp37m-manylinux2010_x86_64.whl (3.2MB)\n",
            "\u001b[K     |████████████████████████████████| 3.2MB 46.6MB/s \n",
            "\u001b[?25hRequirement already satisfied: tqdm>=4.27 in /usr/local/lib/python3.7/dist-packages (from transformers) (4.41.1)\n",
            "Requirement already satisfied: zipp>=0.5 in /usr/local/lib/python3.7/dist-packages (from importlib-metadata; python_version < \"3.8\"->transformers) (3.4.0)\n",
            "Requirement already satisfied: typing-extensions>=3.6.4; python_version < \"3.8\" in /usr/local/lib/python3.7/dist-packages (from importlib-metadata; python_version < \"3.8\"->transformers) (3.7.4.3)\n",
            "Requirement already satisfied: pyparsing>=2.0.2 in /usr/local/lib/python3.7/dist-packages (from packaging->transformers) (2.4.7)\n",
            "Requirement already satisfied: certifi>=2017.4.17 in /usr/local/lib/python3.7/dist-packages (from requests->transformers) (2020.12.5)\n",
            "Requirement already satisfied: chardet<4,>=3.0.2 in /usr/local/lib/python3.7/dist-packages (from requests->transformers) (3.0.4)\n",
            "Requirement already satisfied: urllib3!=1.25.0,!=1.25.1,<1.26,>=1.21.1 in /usr/local/lib/python3.7/dist-packages (from requests->transformers) (1.24.3)\n",
            "Requirement already satisfied: idna<3,>=2.5 in /usr/local/lib/python3.7/dist-packages (from requests->transformers) (2.10)\n",
            "Requirement already satisfied: six in /usr/local/lib/python3.7/dist-packages (from sacremoses->transformers) (1.15.0)\n",
            "Requirement already satisfied: click in /usr/local/lib/python3.7/dist-packages (from sacremoses->transformers) (7.1.2)\n",
            "Requirement already satisfied: joblib in /usr/local/lib/python3.7/dist-packages (from sacremoses->transformers) (1.0.1)\n",
            "Building wheels for collected packages: sacremoses\n",
            "  Building wheel for sacremoses (setup.py) ... \u001b[?25l\u001b[?25hdone\n",
            "  Created wheel for sacremoses: filename=sacremoses-0.0.43-cp37-none-any.whl size=893262 sha256=aa9ca765ed5aa5bc4118a5baed7898911f5f1d346093e050d51a04bba9b4b8a0\n",
            "  Stored in directory: /root/.cache/pip/wheels/29/3c/fd/7ce5c3f0666dab31a50123635e6fb5e19ceb42ce38d4e58f45\n",
            "Successfully built sacremoses\n",
            "Installing collected packages: sacremoses, tokenizers, transformers\n",
            "Successfully installed sacremoses-0.0.43 tokenizers-0.10.1 transformers-4.3.3\n"
          ],
          "name": "stdout"
        }
      ]
    },
    {
      "cell_type": "code",
      "metadata": {
        "colab": {
          "base_uri": "https://localhost:8080/"
        },
        "id": "FCtyhNbHna3V",
        "outputId": "ac638b21-6f1f-45b4-fa49-ac81f117039b"
      },
      "source": [
        "!pip install sentencepiece"
      ],
      "execution_count": null,
      "outputs": [
        {
          "output_type": "stream",
          "text": [
            "Collecting sentencepiece\n",
            "\u001b[?25l  Downloading https://files.pythonhosted.org/packages/f5/99/e0808cb947ba10f575839c43e8fafc9cc44e4a7a2c8f79c60db48220a577/sentencepiece-0.1.95-cp37-cp37m-manylinux2014_x86_64.whl (1.2MB)\n",
            "\r\u001b[K     |▎                               | 10kB 21.7MB/s eta 0:00:01\r\u001b[K     |▌                               | 20kB 22.9MB/s eta 0:00:01\r\u001b[K     |▉                               | 30kB 16.7MB/s eta 0:00:01\r\u001b[K     |█                               | 40kB 15.3MB/s eta 0:00:01\r\u001b[K     |█▍                              | 51kB 9.9MB/s eta 0:00:01\r\u001b[K     |█▋                              | 61kB 9.2MB/s eta 0:00:01\r\u001b[K     |██                              | 71kB 10.3MB/s eta 0:00:01\r\u001b[K     |██▏                             | 81kB 10.7MB/s eta 0:00:01\r\u001b[K     |██▌                             | 92kB 10.8MB/s eta 0:00:01\r\u001b[K     |██▊                             | 102kB 8.1MB/s eta 0:00:01\r\u001b[K     |███                             | 112kB 8.1MB/s eta 0:00:01\r\u001b[K     |███▎                            | 122kB 8.1MB/s eta 0:00:01\r\u001b[K     |███▌                            | 133kB 8.1MB/s eta 0:00:01\r\u001b[K     |███▉                            | 143kB 8.1MB/s eta 0:00:01\r\u001b[K     |████                            | 153kB 8.1MB/s eta 0:00:01\r\u001b[K     |████▍                           | 163kB 8.1MB/s eta 0:00:01\r\u001b[K     |████▋                           | 174kB 8.1MB/s eta 0:00:01\r\u001b[K     |█████                           | 184kB 8.1MB/s eta 0:00:01\r\u001b[K     |█████▏                          | 194kB 8.1MB/s eta 0:00:01\r\u001b[K     |█████▌                          | 204kB 8.1MB/s eta 0:00:01\r\u001b[K     |█████▊                          | 215kB 8.1MB/s eta 0:00:01\r\u001b[K     |██████                          | 225kB 8.1MB/s eta 0:00:01\r\u001b[K     |██████▎                         | 235kB 8.1MB/s eta 0:00:01\r\u001b[K     |██████▌                         | 245kB 8.1MB/s eta 0:00:01\r\u001b[K     |██████▉                         | 256kB 8.1MB/s eta 0:00:01\r\u001b[K     |███████                         | 266kB 8.1MB/s eta 0:00:01\r\u001b[K     |███████▍                        | 276kB 8.1MB/s eta 0:00:01\r\u001b[K     |███████▋                        | 286kB 8.1MB/s eta 0:00:01\r\u001b[K     |████████                        | 296kB 8.1MB/s eta 0:00:01\r\u001b[K     |████████▏                       | 307kB 8.1MB/s eta 0:00:01\r\u001b[K     |████████▍                       | 317kB 8.1MB/s eta 0:00:01\r\u001b[K     |████████▊                       | 327kB 8.1MB/s eta 0:00:01\r\u001b[K     |█████████                       | 337kB 8.1MB/s eta 0:00:01\r\u001b[K     |█████████▎                      | 348kB 8.1MB/s eta 0:00:01\r\u001b[K     |█████████▌                      | 358kB 8.1MB/s eta 0:00:01\r\u001b[K     |█████████▉                      | 368kB 8.1MB/s eta 0:00:01\r\u001b[K     |██████████                      | 378kB 8.1MB/s eta 0:00:01\r\u001b[K     |██████████▍                     | 389kB 8.1MB/s eta 0:00:01\r\u001b[K     |██████████▋                     | 399kB 8.1MB/s eta 0:00:01\r\u001b[K     |███████████                     | 409kB 8.1MB/s eta 0:00:01\r\u001b[K     |███████████▏                    | 419kB 8.1MB/s eta 0:00:01\r\u001b[K     |███████████▍                    | 430kB 8.1MB/s eta 0:00:01\r\u001b[K     |███████████▊                    | 440kB 8.1MB/s eta 0:00:01\r\u001b[K     |████████████                    | 450kB 8.1MB/s eta 0:00:01\r\u001b[K     |████████████▎                   | 460kB 8.1MB/s eta 0:00:01\r\u001b[K     |████████████▌                   | 471kB 8.1MB/s eta 0:00:01\r\u001b[K     |████████████▉                   | 481kB 8.1MB/s eta 0:00:01\r\u001b[K     |█████████████                   | 491kB 8.1MB/s eta 0:00:01\r\u001b[K     |█████████████▍                  | 501kB 8.1MB/s eta 0:00:01\r\u001b[K     |█████████████▋                  | 512kB 8.1MB/s eta 0:00:01\r\u001b[K     |█████████████▉                  | 522kB 8.1MB/s eta 0:00:01\r\u001b[K     |██████████████▏                 | 532kB 8.1MB/s eta 0:00:01\r\u001b[K     |██████████████▍                 | 542kB 8.1MB/s eta 0:00:01\r\u001b[K     |██████████████▊                 | 552kB 8.1MB/s eta 0:00:01\r\u001b[K     |███████████████                 | 563kB 8.1MB/s eta 0:00:01\r\u001b[K     |███████████████▎                | 573kB 8.1MB/s eta 0:00:01\r\u001b[K     |███████████████▌                | 583kB 8.1MB/s eta 0:00:01\r\u001b[K     |███████████████▉                | 593kB 8.1MB/s eta 0:00:01\r\u001b[K     |████████████████                | 604kB 8.1MB/s eta 0:00:01\r\u001b[K     |████████████████▍               | 614kB 8.1MB/s eta 0:00:01\r\u001b[K     |████████████████▋               | 624kB 8.1MB/s eta 0:00:01\r\u001b[K     |████████████████▉               | 634kB 8.1MB/s eta 0:00:01\r\u001b[K     |█████████████████▏              | 645kB 8.1MB/s eta 0:00:01\r\u001b[K     |█████████████████▍              | 655kB 8.1MB/s eta 0:00:01\r\u001b[K     |█████████████████▊              | 665kB 8.1MB/s eta 0:00:01\r\u001b[K     |██████████████████              | 675kB 8.1MB/s eta 0:00:01\r\u001b[K     |██████████████████▎             | 686kB 8.1MB/s eta 0:00:01\r\u001b[K     |██████████████████▌             | 696kB 8.1MB/s eta 0:00:01\r\u001b[K     |██████████████████▉             | 706kB 8.1MB/s eta 0:00:01\r\u001b[K     |███████████████████             | 716kB 8.1MB/s eta 0:00:01\r\u001b[K     |███████████████████▎            | 727kB 8.1MB/s eta 0:00:01\r\u001b[K     |███████████████████▋            | 737kB 8.1MB/s eta 0:00:01\r\u001b[K     |███████████████████▉            | 747kB 8.1MB/s eta 0:00:01\r\u001b[K     |████████████████████▏           | 757kB 8.1MB/s eta 0:00:01\r\u001b[K     |████████████████████▍           | 768kB 8.1MB/s eta 0:00:01\r\u001b[K     |████████████████████▊           | 778kB 8.1MB/s eta 0:00:01\r\u001b[K     |█████████████████████           | 788kB 8.1MB/s eta 0:00:01\r\u001b[K     |█████████████████████▎          | 798kB 8.1MB/s eta 0:00:01\r\u001b[K     |█████████████████████▌          | 808kB 8.1MB/s eta 0:00:01\r\u001b[K     |█████████████████████▉          | 819kB 8.1MB/s eta 0:00:01\r\u001b[K     |██████████████████████          | 829kB 8.1MB/s eta 0:00:01\r\u001b[K     |██████████████████████▎         | 839kB 8.1MB/s eta 0:00:01\r\u001b[K     |██████████████████████▋         | 849kB 8.1MB/s eta 0:00:01\r\u001b[K     |██████████████████████▉         | 860kB 8.1MB/s eta 0:00:01\r\u001b[K     |███████████████████████▏        | 870kB 8.1MB/s eta 0:00:01\r\u001b[K     |███████████████████████▍        | 880kB 8.1MB/s eta 0:00:01\r\u001b[K     |███████████████████████▊        | 890kB 8.1MB/s eta 0:00:01\r\u001b[K     |████████████████████████        | 901kB 8.1MB/s eta 0:00:01\r\u001b[K     |████████████████████████▎       | 911kB 8.1MB/s eta 0:00:01\r\u001b[K     |████████████████████████▌       | 921kB 8.1MB/s eta 0:00:01\r\u001b[K     |████████████████████████▊       | 931kB 8.1MB/s eta 0:00:01\r\u001b[K     |█████████████████████████       | 942kB 8.1MB/s eta 0:00:01\r\u001b[K     |█████████████████████████▎      | 952kB 8.1MB/s eta 0:00:01\r\u001b[K     |█████████████████████████▋      | 962kB 8.1MB/s eta 0:00:01\r\u001b[K     |█████████████████████████▉      | 972kB 8.1MB/s eta 0:00:01\r\u001b[K     |██████████████████████████▏     | 983kB 8.1MB/s eta 0:00:01\r\u001b[K     |██████████████████████████▍     | 993kB 8.1MB/s eta 0:00:01\r\u001b[K     |██████████████████████████▊     | 1.0MB 8.1MB/s eta 0:00:01\r\u001b[K     |███████████████████████████     | 1.0MB 8.1MB/s eta 0:00:01\r\u001b[K     |███████████████████████████▎    | 1.0MB 8.1MB/s eta 0:00:01\r\u001b[K     |███████████████████████████▌    | 1.0MB 8.1MB/s eta 0:00:01\r\u001b[K     |███████████████████████████▊    | 1.0MB 8.1MB/s eta 0:00:01\r\u001b[K     |████████████████████████████    | 1.1MB 8.1MB/s eta 0:00:01\r\u001b[K     |████████████████████████████▎   | 1.1MB 8.1MB/s eta 0:00:01\r\u001b[K     |████████████████████████████▋   | 1.1MB 8.1MB/s eta 0:00:01\r\u001b[K     |████████████████████████████▉   | 1.1MB 8.1MB/s eta 0:00:01\r\u001b[K     |█████████████████████████████▏  | 1.1MB 8.1MB/s eta 0:00:01\r\u001b[K     |█████████████████████████████▍  | 1.1MB 8.1MB/s eta 0:00:01\r\u001b[K     |█████████████████████████████▊  | 1.1MB 8.1MB/s eta 0:00:01\r\u001b[K     |██████████████████████████████  | 1.1MB 8.1MB/s eta 0:00:01\r\u001b[K     |██████████████████████████████▏ | 1.1MB 8.1MB/s eta 0:00:01\r\u001b[K     |██████████████████████████████▌ | 1.1MB 8.1MB/s eta 0:00:01\r\u001b[K     |██████████████████████████████▊ | 1.2MB 8.1MB/s eta 0:00:01\r\u001b[K     |███████████████████████████████ | 1.2MB 8.1MB/s eta 0:00:01\r\u001b[K     |███████████████████████████████▎| 1.2MB 8.1MB/s eta 0:00:01\r\u001b[K     |███████████████████████████████▋| 1.2MB 8.1MB/s eta 0:00:01\r\u001b[K     |███████████████████████████████▉| 1.2MB 8.1MB/s eta 0:00:01\r\u001b[K     |████████████████████████████████| 1.2MB 8.1MB/s \n",
            "\u001b[?25hInstalling collected packages: sentencepiece\n",
            "Successfully installed sentencepiece-0.1.95\n"
          ],
          "name": "stdout"
        }
      ]
    },
    {
      "cell_type": "code",
      "metadata": {
        "execution": {
          "iopub.execute_input": "2020-08-24T15:41:36.598312Z",
          "iopub.status.busy": "2020-08-24T15:41:36.597650Z",
          "iopub.status.idle": "2020-08-24T15:41:46.127418Z",
          "shell.execute_reply": "2020-08-24T15:41:46.126794Z"
        },
        "id": "07GPLpCt_AjQ",
        "papermill": {
          "duration": 9.546548,
          "end_time": "2020-08-24T15:41:46.127575",
          "exception": false,
          "start_time": "2020-08-24T15:41:36.581027",
          "status": "completed"
        },
        "tags": []
      },
      "source": [
        "import pandas as pd\n",
        "import numpy as np\n",
        "import pickle\n",
        "import matplotlib.pyplot as plt\n",
        "import seaborn as sns\n",
        "import re\n",
        "import copy\n",
        "from tqdm.notebook import tqdm\n",
        "import gc\n",
        "\n",
        "import torch\n",
        "import torch.nn as nn\n",
        "import torch.nn.functional as F\n",
        "from torch import optim\n",
        "from torch.utils.data import Dataset, DataLoader\n",
        "\n",
        "from sklearn.metrics import (\n",
        "    accuracy_score, \n",
        "    f1_score, \n",
        "    classification_report\n",
        ")\n",
        "\n",
        "from transformers import (\n",
        "    T5Tokenizer, \n",
        "    T5Model,\n",
        "    T5ForConditionalGeneration,\n",
        "    get_linear_schedule_with_warmup\n",
        ")\n",
        "\n",
        "project_dir = './drive/MyDrive/WASSA/'"
      ],
      "execution_count": null,
      "outputs": []
    },
    {
      "cell_type": "code",
      "metadata": {
        "execution": {
          "iopub.execute_input": "2020-08-24T15:41:46.172826Z",
          "iopub.status.busy": "2020-08-24T15:41:46.172105Z",
          "iopub.status.idle": "2020-08-24T15:41:47.404713Z",
          "shell.execute_reply": "2020-08-24T15:41:47.404136Z"
        },
        "id": "-6_y9T71cQm2",
        "papermill": {
          "duration": 1.247384,
          "end_time": "2020-08-24T15:41:47.404845",
          "exception": false,
          "start_time": "2020-08-24T15:41:46.157461",
          "status": "completed"
        },
        "tags": [],
        "colab": {
          "base_uri": "https://localhost:8080/"
        },
        "outputId": "46c96513-2820-4b3d-e212-8fb5dace6b29"
      },
      "source": [
        "! nvidia-smi"
      ],
      "execution_count": null,
      "outputs": [
        {
          "output_type": "stream",
          "text": [
            "Wed Mar  3 13:07:08 2021       \n",
            "+-----------------------------------------------------------------------------+\n",
            "| NVIDIA-SMI 460.39       Driver Version: 460.32.03    CUDA Version: 11.2     |\n",
            "|-------------------------------+----------------------+----------------------+\n",
            "| GPU  Name        Persistence-M| Bus-Id        Disp.A | Volatile Uncorr. ECC |\n",
            "| Fan  Temp  Perf  Pwr:Usage/Cap|         Memory-Usage | GPU-Util  Compute M. |\n",
            "|                               |                      |               MIG M. |\n",
            "|===============================+======================+======================|\n",
            "|   0  Tesla T4            Off  | 00000000:00:04.0 Off |                    0 |\n",
            "| N/A   56C    P8    10W /  70W |      0MiB / 15109MiB |      0%      Default |\n",
            "|                               |                      |                  N/A |\n",
            "+-------------------------------+----------------------+----------------------+\n",
            "                                                                               \n",
            "+-----------------------------------------------------------------------------+\n",
            "| Processes:                                                                  |\n",
            "|  GPU   GI   CI        PID   Type   Process name                  GPU Memory |\n",
            "|        ID   ID                                                   Usage      |\n",
            "|=============================================================================|\n",
            "|  No running processes found                                                 |\n",
            "+-----------------------------------------------------------------------------+\n"
          ],
          "name": "stdout"
        }
      ]
    },
    {
      "cell_type": "markdown",
      "metadata": {
        "id": "1U4JGRlCV6rU",
        "papermill": {
          "duration": 0.013313,
          "end_time": "2020-08-24T15:41:47.428958",
          "exception": false,
          "start_time": "2020-08-24T15:41:47.415645",
          "status": "completed"
        },
        "tags": []
      },
      "source": [
        "# Data Preprocessing"
      ]
    },
    {
      "cell_type": "code",
      "metadata": {
        "execution": {
          "iopub.execute_input": "2020-08-24T15:41:47.497792Z",
          "iopub.status.busy": "2020-08-24T15:41:47.497162Z",
          "iopub.status.idle": "2020-08-24T15:41:47.815883Z",
          "shell.execute_reply": "2020-08-24T15:41:47.814583Z"
        },
        "id": "MD7iAF-f1646",
        "papermill": {
          "duration": 0.34568,
          "end_time": "2020-08-24T15:41:47.815995",
          "exception": false,
          "start_time": "2020-08-24T15:41:47.470315",
          "status": "completed"
        },
        "tags": [],
        "colab": {
          "base_uri": "https://localhost:8080/",
          "height": 564
        },
        "outputId": "98967850-de5e-4428-f728-d0d988bada98"
      },
      "source": [
        "train_df = pd.read_csv(project_dir + 'train.tsv', sep='\\t')\n",
        "train_df.head()"
      ],
      "execution_count": null,
      "outputs": [
        {
          "output_type": "execute_result",
          "data": {
            "text/html": [
              "<div>\n",
              "<style scoped>\n",
              "    .dataframe tbody tr th:only-of-type {\n",
              "        vertical-align: middle;\n",
              "    }\n",
              "\n",
              "    .dataframe tbody tr th {\n",
              "        vertical-align: top;\n",
              "    }\n",
              "\n",
              "    .dataframe thead th {\n",
              "        text-align: right;\n",
              "    }\n",
              "</style>\n",
              "<table border=\"1\" class=\"dataframe\">\n",
              "  <thead>\n",
              "    <tr style=\"text-align: right;\">\n",
              "      <th></th>\n",
              "      <th>message_id</th>\n",
              "      <th>response_id</th>\n",
              "      <th>article_id</th>\n",
              "      <th>empathy</th>\n",
              "      <th>distress</th>\n",
              "      <th>empathy_bin</th>\n",
              "      <th>distress_bin</th>\n",
              "      <th>essay</th>\n",
              "      <th>emotion</th>\n",
              "      <th>gender</th>\n",
              "      <th>education</th>\n",
              "      <th>race</th>\n",
              "      <th>age</th>\n",
              "      <th>income</th>\n",
              "      <th>personality_conscientiousness</th>\n",
              "      <th>personality_openess</th>\n",
              "      <th>personality_extraversion</th>\n",
              "      <th>personality_agreeableness</th>\n",
              "      <th>personality_stability</th>\n",
              "      <th>iri_perspective_taking</th>\n",
              "      <th>iri_personal_distress</th>\n",
              "      <th>iri_fantasy</th>\n",
              "      <th>iri_empathatic_concern</th>\n",
              "    </tr>\n",
              "  </thead>\n",
              "  <tbody>\n",
              "    <tr>\n",
              "      <th>0</th>\n",
              "      <td>R_1hGrPtWM4SumG0U_1</td>\n",
              "      <td>R_1hGrPtWM4SumG0U</td>\n",
              "      <td>67</td>\n",
              "      <td>5.667</td>\n",
              "      <td>4.375</td>\n",
              "      <td>1</td>\n",
              "      <td>1</td>\n",
              "      <td>it is really diheartening to read about these ...</td>\n",
              "      <td>sadness</td>\n",
              "      <td>1</td>\n",
              "      <td>4</td>\n",
              "      <td>1</td>\n",
              "      <td>33</td>\n",
              "      <td>50000</td>\n",
              "      <td>6.0</td>\n",
              "      <td>5.0</td>\n",
              "      <td>5.0</td>\n",
              "      <td>5.5</td>\n",
              "      <td>5.5</td>\n",
              "      <td>3.571</td>\n",
              "      <td>2.0</td>\n",
              "      <td>3.429</td>\n",
              "      <td>4.0</td>\n",
              "    </tr>\n",
              "    <tr>\n",
              "      <th>1</th>\n",
              "      <td>R_1hGrPtWM4SumG0U_2</td>\n",
              "      <td>R_1hGrPtWM4SumG0U</td>\n",
              "      <td>86</td>\n",
              "      <td>4.833</td>\n",
              "      <td>4.875</td>\n",
              "      <td>1</td>\n",
              "      <td>1</td>\n",
              "      <td>the phone lines from the suicide prevention li...</td>\n",
              "      <td>sadness</td>\n",
              "      <td>1</td>\n",
              "      <td>4</td>\n",
              "      <td>1</td>\n",
              "      <td>33</td>\n",
              "      <td>50000</td>\n",
              "      <td>6.0</td>\n",
              "      <td>5.0</td>\n",
              "      <td>5.0</td>\n",
              "      <td>5.5</td>\n",
              "      <td>5.5</td>\n",
              "      <td>3.571</td>\n",
              "      <td>2.0</td>\n",
              "      <td>3.429</td>\n",
              "      <td>4.0</td>\n",
              "    </tr>\n",
              "    <tr>\n",
              "      <th>2</th>\n",
              "      <td>R_1hGrPtWM4SumG0U_3</td>\n",
              "      <td>R_1hGrPtWM4SumG0U</td>\n",
              "      <td>206</td>\n",
              "      <td>5.333</td>\n",
              "      <td>3.500</td>\n",
              "      <td>1</td>\n",
              "      <td>0</td>\n",
              "      <td>no matter what your heritage, you should be ab...</td>\n",
              "      <td>neutral</td>\n",
              "      <td>1</td>\n",
              "      <td>4</td>\n",
              "      <td>1</td>\n",
              "      <td>33</td>\n",
              "      <td>50000</td>\n",
              "      <td>6.0</td>\n",
              "      <td>5.0</td>\n",
              "      <td>5.0</td>\n",
              "      <td>5.5</td>\n",
              "      <td>5.5</td>\n",
              "      <td>3.571</td>\n",
              "      <td>2.0</td>\n",
              "      <td>3.429</td>\n",
              "      <td>4.0</td>\n",
              "    </tr>\n",
              "    <tr>\n",
              "      <th>3</th>\n",
              "      <td>R_1hGrPtWM4SumG0U_4</td>\n",
              "      <td>R_1hGrPtWM4SumG0U</td>\n",
              "      <td>290</td>\n",
              "      <td>4.167</td>\n",
              "      <td>5.250</td>\n",
              "      <td>1</td>\n",
              "      <td>1</td>\n",
              "      <td>it is frightening to learn about all these sha...</td>\n",
              "      <td>fear</td>\n",
              "      <td>1</td>\n",
              "      <td>4</td>\n",
              "      <td>1</td>\n",
              "      <td>33</td>\n",
              "      <td>50000</td>\n",
              "      <td>6.0</td>\n",
              "      <td>5.0</td>\n",
              "      <td>5.0</td>\n",
              "      <td>5.5</td>\n",
              "      <td>5.5</td>\n",
              "      <td>3.571</td>\n",
              "      <td>2.0</td>\n",
              "      <td>3.429</td>\n",
              "      <td>4.0</td>\n",
              "    </tr>\n",
              "    <tr>\n",
              "      <th>4</th>\n",
              "      <td>R_1hGrPtWM4SumG0U_5</td>\n",
              "      <td>R_1hGrPtWM4SumG0U</td>\n",
              "      <td>342</td>\n",
              "      <td>5.333</td>\n",
              "      <td>4.625</td>\n",
              "      <td>1</td>\n",
              "      <td>1</td>\n",
              "      <td>the eldest generation of russians aren't being...</td>\n",
              "      <td>sadness</td>\n",
              "      <td>1</td>\n",
              "      <td>4</td>\n",
              "      <td>1</td>\n",
              "      <td>33</td>\n",
              "      <td>50000</td>\n",
              "      <td>6.0</td>\n",
              "      <td>5.0</td>\n",
              "      <td>5.0</td>\n",
              "      <td>5.5</td>\n",
              "      <td>5.5</td>\n",
              "      <td>3.571</td>\n",
              "      <td>2.0</td>\n",
              "      <td>3.429</td>\n",
              "      <td>4.0</td>\n",
              "    </tr>\n",
              "  </tbody>\n",
              "</table>\n",
              "</div>"
            ],
            "text/plain": [
              "            message_id        response_id  ...  iri_fantasy  iri_empathatic_concern\n",
              "0  R_1hGrPtWM4SumG0U_1  R_1hGrPtWM4SumG0U  ...        3.429                     4.0\n",
              "1  R_1hGrPtWM4SumG0U_2  R_1hGrPtWM4SumG0U  ...        3.429                     4.0\n",
              "2  R_1hGrPtWM4SumG0U_3  R_1hGrPtWM4SumG0U  ...        3.429                     4.0\n",
              "3  R_1hGrPtWM4SumG0U_4  R_1hGrPtWM4SumG0U  ...        3.429                     4.0\n",
              "4  R_1hGrPtWM4SumG0U_5  R_1hGrPtWM4SumG0U  ...        3.429                     4.0\n",
              "\n",
              "[5 rows x 23 columns]"
            ]
          },
          "metadata": {
            "tags": []
          },
          "execution_count": 6
        }
      ]
    },
    {
      "cell_type": "code",
      "metadata": {
        "execution": {
          "iopub.execute_input": "2020-08-24T15:41:47.878409Z",
          "iopub.status.busy": "2020-08-24T15:41:47.861924Z",
          "iopub.status.idle": "2020-08-24T15:41:50.428388Z",
          "shell.execute_reply": "2020-08-24T15:41:50.427637Z"
        },
        "id": "6fTMIgN3XrPc",
        "papermill": {
          "duration": 2.601991,
          "end_time": "2020-08-24T15:41:50.428563",
          "exception": false,
          "start_time": "2020-08-24T15:41:47.826572",
          "status": "completed"
        },
        "tags": [],
        "colab": {
          "base_uri": "https://localhost:8080/"
        },
        "outputId": "1cb33ee8-494e-4bc8-d6c0-606b63339914"
      },
      "source": [
        "# preprocessing\n",
        "def clean_abstract(text):\n",
        "    text = text.split()\n",
        "    text = [x.strip() for x in text]\n",
        "    text = [x.replace('\\n', ' ').replace('\\t', ' ') for x in text]\n",
        "    text = ' '.join(text)\n",
        "    text = re.sub('([.,!?()])', r' \\1 ', text)\n",
        "    return text\n",
        "    \n",
        "\n",
        "def get_texts(df):\n",
        "    texts = df['essay'].apply(clean_abstract)\n",
        "    texts = texts.values.tolist()\n",
        "    return texts\n",
        "\n",
        "\n",
        "def get_labels(df):\n",
        "    labels=[]\n",
        "    for i in range(len(df)):\n",
        "      label = df.iloc[i,8]\n",
        "      labels.append(label + ' </s>')\n",
        "    return labels\n",
        "\n",
        "texts = get_texts(train_df)\n",
        "labels = get_labels(train_df)\n",
        "\n",
        "for text, label in zip(texts[:5], labels[:5]):\n",
        "    print(f'TEXT -\\t{text}')\n",
        "    print(f'LABEL -\\t{label}')\n",
        "    print()"
      ],
      "execution_count": null,
      "outputs": [
        {
          "output_type": "stream",
          "text": [
            "TEXT -\tit is really diheartening to read about these immigrants from this article who drowned .  it makes me feel anxious and upset how the whole ordeal happened .  it is a terrible occurrence that this had to happen at the mediterranean sea .  thankfully there were some survivors .  the fact that babies were lost makes it that much more emotional to read all of this\n",
            "LABEL -\tsadness </s>\n",
            "\n",
            "TEXT -\tthe phone lines from the suicide prevention line surged after the election .  it also climbed when robin williams committed suciide .  thankfully there is this prevention line to help those in need who have sucidal thoughts but we need to condition people that committing sucide is a permanent solution to a temporary problem\n",
            "LABEL -\tsadness </s>\n",
            "\n",
            "TEXT -\tno matter what your heritage ,  you should be able to serve your country .  her thai heritage shouldn't preclude her and shouldn't have been an issue in this debate .  tammy duckworth and her family should be congratulated on the services they have provided to this country .  any type of racism should not be allowed in a debate\n",
            "LABEL -\tneutral </s>\n",
            "\n",
            "TEXT -\tit is frightening to learn about all these shark attacks but these surfers should be aware of the risks associated with the sport .  relocating the sharks should be a priority and it would be in the best interest to establish a moratorium on water sports until the shark epidemic is dealt with .  closing beach in australia is a good precautionary method\n",
            "LABEL -\tfear </s>\n",
            "\n",
            "TEXT -\tthe eldest generation of russians aren't being treated properly and should have some sort of financial compensation .  they are living off very little per day financially and live in poor conditions .  after paying utilities ,  they barely have enough for food .  health care has also taken a turn for the worse because they can't afford to get proper health treatment due to the costs involved\n",
            "LABEL -\tsadness </s>\n",
            "\n"
          ],
          "name": "stdout"
        }
      ]
    },
    {
      "cell_type": "markdown",
      "metadata": {
        "id": "aT9k73IR-cXi",
        "papermill": {
          "duration": 0.015171,
          "end_time": "2020-08-24T15:41:50.465593",
          "exception": false,
          "start_time": "2020-08-24T15:41:50.450422",
          "status": "completed"
        },
        "tags": []
      },
      "source": [
        "# Exploratory Data Analysis"
      ]
    },
    {
      "cell_type": "code",
      "metadata": {
        "execution": {
          "iopub.execute_input": "2020-08-24T15:41:50.898169Z",
          "iopub.status.busy": "2020-08-24T15:41:50.887934Z",
          "iopub.status.idle": "2020-08-24T15:42:32.997516Z",
          "shell.execute_reply": "2020-08-24T15:42:32.997988Z"
        },
        "id": "8TUCM-pH_vkj",
        "papermill": {
          "duration": 42.134788,
          "end_time": "2020-08-24T15:42:32.998120",
          "exception": false,
          "start_time": "2020-08-24T15:41:50.863332",
          "status": "completed"
        },
        "tags": [],
        "colab": {
          "base_uri": "https://localhost:8080/",
          "height": 282
        },
        "outputId": "1fcfc64b-6a79-4853-aab6-74e07f76b0d1"
      },
      "source": [
        "# text lengths\n",
        "y = [len(t.split()) for t in texts]\n",
        "x = range(0, len(y))\n",
        "plt.bar(x, y)"
      ],
      "execution_count": null,
      "outputs": [
        {
          "output_type": "execute_result",
          "data": {
            "text/plain": [
              "<BarContainer object of 1860 artists>"
            ]
          },
          "metadata": {
            "tags": []
          },
          "execution_count": 8
        },
        {
          "output_type": "display_data",
          "data": {
            "image/png": "[encoded data removed]",
            "text/plain": [
              "<Figure size 432x288 with 1 Axes>"
            ]
          },
          "metadata": {
            "tags": [],
            "needs_background": "light"
          }
        }
      ]
    },
    {
      "cell_type": "markdown",
      "metadata": {
        "id": "syptUw38Mowd"
      },
      "source": [
        "# Config"
      ]
    },
    {
      "cell_type": "code",
      "metadata": {
        "execution": {
          "iopub.execute_input": "2020-08-24T15:43:18.170604Z",
          "iopub.status.busy": "2020-08-24T15:43:18.169713Z",
          "iopub.status.idle": "2020-08-24T15:43:18.900238Z",
          "shell.execute_reply": "2020-08-24T15:43:18.901301Z"
        },
        "id": "F5MG2LCST-Co",
        "papermill": {
          "duration": 0.752355,
          "end_time": "2020-08-24T15:43:18.901482",
          "exception": false,
          "start_time": "2020-08-24T15:43:18.149127",
          "status": "completed"
        },
        "tags": [],
        "colab": {
          "base_uri": "https://localhost:8080/",
          "height": 164,
          "referenced_widgets": [
            "b87fc892be9749e685abd9bd55de2114",
            "626795dafda549e79517a10c841b69df",
            "3714c282190b4bed9a9128ed7860daf4",
            "827ed413b1974ce89e1922bd14873aff",
            "2b0ad4bc196849a89f0a5111fe5aa8ba",
            "21daec43b4fc401889619a350529a959",
            "858821196958407a9955e57988e9c7a0",
            "49b216f60b8d4509ac19117e428da7ad",
            "aa93e1c1e4804769ae851c292eda9ad1",
            "f41e0741e460403f98b544271e5bc15e",
            "d304251b347d47d29c2f614a291db00b",
            "c1c05edd83d3496e89c195c2b47f2cc1",
            "80ee06c0d5e94b6395986992da362352",
            "9b4bd7ce640942f693ee8c18b8b09b91",
            "9401d5bfc12b4550a30c0059bbead91d",
            "94fc0820594f46cf8719410880070d79",
            "fba76735eadf4fad8ba8f414602b4f14",
            "bf74dbc0ce0940438e1b696d5ce511cf",
            "11d3783cf05e4194a5e8627e573fe41d",
            "05ff7eeb1bc54e49a284fd5676837685",
            "fc838ad00d7f4c929bfdf4a8eb4eec7b",
            "62019f7e5d9f4db7825cfb68dab50833",
            "d2fbc9dd0612411994fbad469bd93cdb",
            "2d48b490149e4617b7c50a1b1ccba31c"
          ]
        },
        "outputId": "2d27e96e-d87e-44f7-b208-0713bb7b1793"
      },
      "source": [
        "class Config:\n",
        "    def __init__(self):\n",
        "        super(Config, self).__init__()\n",
        "\n",
        "        self.SEED = 42\n",
        "        self.MODEL_PATH = 'mrm8488/t5-base-finetuned-emotion'\n",
        "\n",
        "        # data\n",
        "        self.TOKENIZER = T5Tokenizer.from_pretrained(self.MODEL_PATH)\n",
        "        self.SRC_MAX_LENGTH = 320\n",
        "        self.TGT_MAX_LENGTH = 2\n",
        "        self.BATCH_SIZE = 8\n",
        "        self.VALIDATION_SPLIT = 0.10\n",
        "\n",
        "        # model\n",
        "        self.DEVICE = torch.device('cuda' if torch.cuda.is_available() else 'cpu')\n",
        "        self.FULL_FINETUNING = True\n",
        "        self.LR = 3e-5\n",
        "        self.OPTIMIZER = 'AdamW'\n",
        "        self.CRITERION = 'BCEWithLogitsLoss'\n",
        "        self.SAVE_BEST_ONLY = True\n",
        "        self.N_VALIDATE_DUR_TRAIN = 3\n",
        "        self.EPOCHS = 10\n",
        "\n",
        "config = Config()"
      ],
      "execution_count": null,
      "outputs": [
        {
          "output_type": "display_data",
          "data": {
            "application/vnd.jupyter.widget-view+json": {
              "model_id": "b87fc892be9749e685abd9bd55de2114",
              "version_minor": 0,
              "version_major": 2
            },
            "text/plain": [
              "HBox(children=(FloatProgress(value=0.0, description='Downloading', max=791656.0, style=ProgressStyle(descripti…"
            ]
          },
          "metadata": {
            "tags": []
          }
        },
        {
          "output_type": "stream",
          "text": [
            "\n"
          ],
          "name": "stdout"
        },
        {
          "output_type": "display_data",
          "data": {
            "application/vnd.jupyter.widget-view+json": {
              "model_id": "aa93e1c1e4804769ae851c292eda9ad1",
              "version_minor": 0,
              "version_major": 2
            },
            "text/plain": [
              "HBox(children=(FloatProgress(value=0.0, description='Downloading', max=1786.0, style=ProgressStyle(description…"
            ]
          },
          "metadata": {
            "tags": []
          }
        },
        {
          "output_type": "stream",
          "text": [
            "\n"
          ],
          "name": "stdout"
        },
        {
          "output_type": "display_data",
          "data": {
            "application/vnd.jupyter.widget-view+json": {
              "model_id": "fba76735eadf4fad8ba8f414602b4f14",
              "version_minor": 0,
              "version_major": 2
            },
            "text/plain": [
              "HBox(children=(FloatProgress(value=0.0, description='Downloading', max=25.0, style=ProgressStyle(description_w…"
            ]
          },
          "metadata": {
            "tags": []
          }
        },
        {
          "output_type": "stream",
          "text": [
            "\n"
          ],
          "name": "stdout"
        }
      ]
    },
    {
      "cell_type": "markdown",
      "metadata": {
        "id": "e1AhmXnXByg5",
        "papermill": {
          "duration": 0.01177,
          "end_time": "2020-08-24T15:43:18.926370",
          "exception": false,
          "start_time": "2020-08-24T15:43:18.914600",
          "status": "completed"
        },
        "tags": []
      },
      "source": [
        "# Dataset & Dataloader"
      ]
    },
    {
      "cell_type": "code",
      "metadata": {
        "execution": {
          "iopub.execute_input": "2020-08-24T15:43:18.991107Z",
          "iopub.status.busy": "2020-08-24T15:43:18.990179Z",
          "iopub.status.idle": "2020-08-24T15:43:18.992978Z",
          "shell.execute_reply": "2020-08-24T15:43:18.993457Z"
        },
        "id": "62kL6XSQUon-",
        "papermill": {
          "duration": 0.031613,
          "end_time": "2020-08-24T15:43:18.993605",
          "exception": false,
          "start_time": "2020-08-24T15:43:18.961992",
          "status": "completed"
        },
        "tags": []
      },
      "source": [
        "class T5Dataset(Dataset):\n",
        "    def __init__(self, df, indices, set_type=None):\n",
        "        super(T5Dataset, self).__init__()\n",
        "\n",
        "        df = df.iloc[indices]\n",
        "        self.texts = get_texts(df)\n",
        "        self.set_type = set_type\n",
        "        if self.set_type != 'test':\n",
        "            self.labels = get_labels(df)\n",
        "\n",
        "        self.tokenizer = config.TOKENIZER\n",
        "        self.src_max_length = config.SRC_MAX_LENGTH\n",
        "        self.tgt_max_length = config.TGT_MAX_LENGTH\n",
        "\n",
        "    def __len__(self):\n",
        "        return len(self.texts)\n",
        "    \n",
        "    def __getitem__(self, index):\n",
        "        src_tokenized = self.tokenizer.encode_plus(\n",
        "            self.texts[index], \n",
        "            max_length=self.src_max_length,\n",
        "            padding='max_length',\n",
        "            truncation=True,\n",
        "            return_attention_mask=True,\n",
        "            return_token_type_ids=False,\n",
        "            return_tensors='pt'\n",
        "        )\n",
        "        src_input_ids = src_tokenized['input_ids'].squeeze()\n",
        "        src_attention_mask = src_tokenized['attention_mask'].squeeze()\n",
        "\n",
        "        if self.set_type != 'test':\n",
        "            tgt_tokenized = self.tokenizer.encode_plus(\n",
        "                self.labels[index], \n",
        "                max_length=self.tgt_max_length,\n",
        "                padding='max_length',\n",
        "                truncation=True,\n",
        "                return_attention_mask=True,\n",
        "                return_token_type_ids=False,\n",
        "                return_tensors='pt'\n",
        "            )\n",
        "            tgt_input_ids = tgt_tokenized['input_ids'].squeeze()\n",
        "            tgt_attention_mask = tgt_tokenized['attention_mask'].squeeze()\n",
        "\n",
        "            return {\n",
        "                'src_input_ids': src_input_ids.long(),\n",
        "                'src_attention_mask': src_attention_mask.long(),\n",
        "                'tgt_input_ids': tgt_input_ids.long(),\n",
        "                'tgt_attention_mask': tgt_attention_mask.long()\n",
        "            }\n",
        "\n",
        "        return {\n",
        "            'src_input_ids': src_input_ids.long(),\n",
        "            'src_attention_mask': src_attention_mask.long()\n",
        "        }"
      ],
      "execution_count": null,
      "outputs": []
    },
    {
      "cell_type": "code",
      "metadata": {
        "execution": {
          "iopub.execute_input": "2020-08-24T15:43:19.052866Z",
          "iopub.status.busy": "2020-08-24T15:43:19.051942Z",
          "iopub.status.idle": "2020-08-24T15:43:19.055057Z",
          "shell.execute_reply": "2020-08-24T15:43:19.054584Z"
        },
        "id": "xkGLwcZ0f732",
        "papermill": {
          "duration": 0.023736,
          "end_time": "2020-08-24T15:43:19.055159",
          "exception": false,
          "start_time": "2020-08-24T15:43:19.031423",
          "status": "completed"
        },
        "tags": []
      },
      "source": [
        "# train-val split\n",
        "\n",
        "np.random.seed(config.SEED)\n",
        "\n",
        "dataset_size = len(train_df)\n",
        "indices = list(range(dataset_size))\n",
        "split = int(np.floor(config.VALIDATION_SPLIT * dataset_size))\n",
        "np.random.shuffle(indices)\n",
        "\n",
        "train_indices, val_indices = indices[split:], indices[:split]"
      ],
      "execution_count": null,
      "outputs": []
    },
    {
      "cell_type": "code",
      "metadata": {
        "execution": {
          "iopub.execute_input": "2020-08-24T15:43:19.117729Z",
          "iopub.status.busy": "2020-08-24T15:43:19.116811Z",
          "iopub.status.idle": "2020-08-24T15:43:22.015979Z",
          "shell.execute_reply": "2020-08-24T15:43:22.016644Z"
        },
        "id": "0mnuNOKmkc1R",
        "papermill": {
          "duration": 2.924957,
          "end_time": "2020-08-24T15:43:22.016822",
          "exception": false,
          "start_time": "2020-08-24T15:43:19.091865",
          "status": "completed"
        },
        "tags": [],
        "colab": {
          "base_uri": "https://localhost:8080/"
        },
        "outputId": "206f17cb-007c-407e-9dab-0574f7c444e6"
      },
      "source": [
        "train_data = T5Dataset(train_df, train_indices)\n",
        "val_data = T5Dataset(train_df, val_indices)\n",
        "\n",
        "train_dataloader = DataLoader(train_data, batch_size=config.BATCH_SIZE)\n",
        "val_dataloader = DataLoader(val_data, batch_size=config.BATCH_SIZE, shuffle = False)\n",
        "\n",
        "b = next(iter(train_dataloader))\n",
        "for k, v in b.items():\n",
        "    print(f'{k} shape: {v.shape}')"
      ],
      "execution_count": null,
      "outputs": [
        {
          "output_type": "stream",
          "text": [
            "src_input_ids shape: torch.Size([8, 320])\n",
            "src_attention_mask shape: torch.Size([8, 320])\n",
            "tgt_input_ids shape: torch.Size([8, 2])\n",
            "tgt_attention_mask shape: torch.Size([8, 2])\n"
          ],
          "name": "stdout"
        },
        {
          "output_type": "stream",
          "text": [
            "/usr/local/lib/python3.7/dist-packages/transformers/tokenization_utils_base.py:2155: FutureWarning: The `pad_to_max_length` argument is deprecated and will be removed in a future version, use `padding=True` or `padding='longest'` to pad to the longest sequence in the batch, or use `padding='max_length'` to pad to a max length. In this case, you can give a specific length with `max_length` (e.g. `max_length=45`) or leave max_length to None to pad to the maximal input size of the model (e.g. 512 for Bert).\n",
            "  FutureWarning,\n"
          ],
          "name": "stderr"
        }
      ]
    },
    {
      "cell_type": "markdown",
      "metadata": {
        "id": "feB5OEdeoV91",
        "papermill": {
          "duration": 0.012095,
          "end_time": "2020-08-24T15:43:22.041534",
          "exception": false,
          "start_time": "2020-08-24T15:43:22.029439",
          "status": "completed"
        },
        "tags": []
      },
      "source": [
        "# Model"
      ]
    },
    {
      "cell_type": "code",
      "metadata": {
        "execution": {
          "iopub.execute_input": "2020-08-24T15:43:22.099703Z",
          "iopub.status.busy": "2020-08-24T15:43:22.099019Z",
          "iopub.status.idle": "2020-08-24T15:43:22.103726Z",
          "shell.execute_reply": "2020-08-24T15:43:22.103026Z"
        },
        "id": "d1xG8CCdlgge",
        "papermill": {
          "duration": 0.024445,
          "end_time": "2020-08-24T15:43:22.103858",
          "exception": false,
          "start_time": "2020-08-24T15:43:22.079413",
          "status": "completed"
        },
        "tags": []
      },
      "source": [
        "class T5Model(nn.Module):\n",
        "    def __init__(self):\n",
        "        super(T5Model, self).__init__()\n",
        "\n",
        "        self.t5_model = T5ForConditionalGeneration.from_pretrained(config.MODEL_PATH)\n",
        "\n",
        "    def forward(\n",
        "        self,\n",
        "        input_ids, \n",
        "        attention_mask=None, \n",
        "        decoder_input_ids=None, \n",
        "        decoder_attention_mask=None, \n",
        "        lm_labels=None\n",
        "        ):\n",
        "\n",
        "        return self.t5_model(\n",
        "            input_ids,\n",
        "            attention_mask=attention_mask,\n",
        "            decoder_input_ids=decoder_input_ids,\n",
        "            decoder_attention_mask=decoder_attention_mask,\n",
        "            labels=lm_labels,\n",
        "        )"
      ],
      "execution_count": null,
      "outputs": []
    },
    {
      "cell_type": "code",
      "metadata": {
        "execution": {
          "iopub.execute_input": "2020-08-24T15:43:22.134341Z",
          "iopub.status.busy": "2020-08-24T15:43:22.133540Z",
          "iopub.status.idle": "2020-08-24T15:43:22.137438Z",
          "shell.execute_reply": "2020-08-24T15:43:22.136965Z"
        },
        "id": "jiypz6jrG9bl",
        "papermill": {
          "duration": 0.020336,
          "end_time": "2020-08-24T15:43:22.137556",
          "exception": false,
          "start_time": "2020-08-24T15:43:22.117220",
          "status": "completed"
        },
        "tags": [],
        "colab": {
          "base_uri": "https://localhost:8080/"
        },
        "outputId": "239599ab-6c6a-4649-d0b0-cf9abe790c05"
      },
      "source": [
        "device = config.DEVICE\n",
        "device"
      ],
      "execution_count": null,
      "outputs": [
        {
          "output_type": "execute_result",
          "data": {
            "text/plain": [
              "device(type='cuda')"
            ]
          },
          "metadata": {
            "tags": []
          },
          "execution_count": 14
        }
      ]
    },
    {
      "cell_type": "markdown",
      "metadata": {
        "id": "O5LkYPeTqpDP",
        "papermill": {
          "duration": 0.012194,
          "end_time": "2020-08-24T15:43:22.162105",
          "exception": false,
          "start_time": "2020-08-24T15:43:22.149911",
          "status": "completed"
        },
        "tags": []
      },
      "source": [
        "# Engine"
      ]
    },
    {
      "cell_type": "markdown",
      "metadata": {
        "id": "bKZQM2E2DnjO",
        "papermill": {
          "duration": 0.011932,
          "end_time": "2020-08-24T15:43:22.186645",
          "exception": false,
          "start_time": "2020-08-24T15:43:22.174713",
          "status": "completed"
        },
        "tags": []
      },
      "source": [
        "Our engine consists of the training and validation step functions."
      ]
    },
    {
      "cell_type": "code",
      "metadata": {
        "colab": {
          "base_uri": "https://localhost:8080/"
        },
        "id": "SGrPVmhNK1eB",
        "outputId": "3a11b358-4f38-4d56-e067-b2529b6627b6"
      },
      "source": [
        "from sklearn.preprocessing import LabelEncoder as LE\r\n",
        "from sklearn.metrics import f1_score\r\n",
        "le = LE()\r\n",
        "le.fit(train_df['emotion']) "
      ],
      "execution_count": null,
      "outputs": [
        {
          "output_type": "execute_result",
          "data": {
            "text/plain": [
              "LabelEncoder()"
            ]
          },
          "metadata": {
            "tags": []
          },
          "execution_count": 15
        }
      ]
    },
    {
      "cell_type": "code",
      "metadata": {
        "execution": {
          "iopub.execute_input": "2020-08-24T15:43:22.222949Z",
          "iopub.status.busy": "2020-08-24T15:43:22.222005Z",
          "iopub.status.idle": "2020-08-24T15:43:22.224310Z",
          "shell.execute_reply": "2020-08-24T15:43:22.224775Z"
        },
        "id": "xi7ZrcylE18g",
        "papermill": {
          "duration": 0.025499,
          "end_time": "2020-08-24T15:43:22.224914",
          "exception": false,
          "start_time": "2020-08-24T15:43:22.199415",
          "status": "completed"
        },
        "tags": []
      },
      "source": [
        "def get_ohe(pred_ohe):\n",
        "    ans = []\n",
        "    for i in range(len(pred_ohe)):\n",
        "      if '<pad>' in pred_ohe[i]:\n",
        "        ans.append(pred_ohe[i].split(' ')[1].split(\"</s>\")[0])\n",
        "      else:\n",
        "        ans.append(pred_ohe[i].split(\"</s>\")[0])\n",
        "    a = list(set(train_df['emotion']))\n",
        "    for i in range(len(ans)):\n",
        "      if ans[i] not in a: # if Label token is incorrectly generated, classify as neutral label, required in intial step of training\n",
        "        ans[i]='neutral'\n",
        "    return ans"
      ],
      "execution_count": null,
      "outputs": []
    },
    {
      "cell_type": "code",
      "metadata": {
        "id": "Mcpii0WGKzZw"
      },
      "source": [
        "from sklearn.metrics import f1_score\r\n",
        "def f1_score_calc(pred, true):\r\n",
        "  y_true = le.transform(true)\r\n",
        "  y_pred = le.transform(pred)\r\n",
        "  return f1_score(y_true, y_pred, average='macro')"
      ],
      "execution_count": null,
      "outputs": []
    },
    {
      "cell_type": "code",
      "metadata": {
        "execution": {
          "iopub.execute_input": "2020-08-24T15:43:22.278439Z",
          "iopub.status.busy": "2020-08-24T15:43:22.269589Z",
          "iopub.status.idle": "2020-08-24T15:43:22.281238Z",
          "shell.execute_reply": "2020-08-24T15:43:22.280755Z"
        },
        "id": "HG9J7OFEDsSB",
        "papermill": {
          "duration": 0.043422,
          "end_time": "2020-08-24T15:43:22.281346",
          "exception": false,
          "start_time": "2020-08-24T15:43:22.237924",
          "status": "completed"
        },
        "tags": []
      },
      "source": [
        "def val(model, val_dataloader, criterion):\n",
        "    \n",
        "    val_loss = 0\n",
        "    true, pred = [], []\n",
        "    \n",
        "    # set model.eval() every time during evaluation\n",
        "    model.eval()\n",
        "    \n",
        "    for step, batch in enumerate(val_dataloader):\n",
        "        # unpack the batch contents and push them to the device (cuda or cpu).\n",
        "        b_src_input_ids = batch['src_input_ids'].to(device)\n",
        "        b_src_attention_mask = batch['src_attention_mask'].to(device)\n",
        "    \n",
        "        b_tgt_input_ids = batch['tgt_input_ids']\n",
        "        lm_labels = b_tgt_input_ids.to(device)\n",
        "        lm_labels[lm_labels[:, :] == config.TOKENIZER.pad_token_id] = -100\n",
        "\n",
        "        b_tgt_attention_mask = batch['tgt_attention_mask'].to(device)\n",
        "\n",
        "        # using torch.no_grad() during validation/inference is faster -\n",
        "        # - since it does not update gradients.\n",
        "        with torch.no_grad():\n",
        "            # forward pass\n",
        "            outputs = model(\n",
        "                input_ids=b_src_input_ids, \n",
        "                attention_mask=b_src_attention_mask,\n",
        "                lm_labels=lm_labels,\n",
        "                decoder_attention_mask=b_tgt_attention_mask)\n",
        "            loss = outputs[0]\n",
        "\n",
        "            val_loss += loss.item()\n",
        "\n",
        "            # get true \n",
        "            for true_id in b_tgt_input_ids:\n",
        "                true_decoded = config.TOKENIZER.decode(true_id)\n",
        "                true.append(true_decoded)\n",
        "\n",
        "            # get pred (decoder generated textual label ids)\n",
        "            pred_ids = model.t5_model.generate(\n",
        "                input_ids=b_src_input_ids, \n",
        "                attention_mask=b_src_attention_mask\n",
        "            )\n",
        "            pred_ids = pred_ids.cpu().numpy()\n",
        "            for pred_id in pred_ids:\n",
        "                pred_decoded = config.TOKENIZER.decode(pred_id)\n",
        "                pred.append(pred_decoded)\n",
        "\n",
        "\n",
        "    print(pred[0], true[0])\n",
        "    avg_val_loss = val_loss / len(val_dataloader)\n",
        "    print('Val loss:', avg_val_loss)\n",
        "\n",
        "    score = f1_score_calc(get_ohe(pred), get_ohe(true))\n",
        "    print('Val macro f1 score:', score)\n",
        "    return score\n",
        "\n",
        "\n",
        "def train(\n",
        "    model,  \n",
        "    train_dataloader, \n",
        "    val_dataloader, \n",
        "    criterion, \n",
        "    optimizer, \n",
        "    scheduler, \n",
        "    epoch\n",
        "    ):\n",
        "    \n",
        "    # we validate config.N_VALIDATE_DUR_TRAIN times during the training loop\n",
        "    nv = config.N_VALIDATE_DUR_TRAIN\n",
        "    temp = len(train_dataloader) // nv\n",
        "    temp = temp - (temp % 100)\n",
        "    validate_at_steps = [temp * x for x in range(1, nv + 1)]\n",
        "    \n",
        "    train_loss = 0\n",
        "    for step, batch in enumerate(tqdm(train_dataloader, \n",
        "                                      desc='Epoch ' + str(epoch))):\n",
        "        # set model.eval() every time during training\n",
        "        model.train()\n",
        "        \n",
        "        # unpack the batch contents and push them to the device (cuda or cpu).\n",
        "        b_src_input_ids = batch['src_input_ids'].to(device)\n",
        "        b_src_attention_mask = batch['src_attention_mask'].to(device)\n",
        "    \n",
        "        lm_labels = batch['tgt_input_ids'].to(device)\n",
        "        lm_labels[lm_labels[:, :] == config.TOKENIZER.pad_token_id] = -100\n",
        "\n",
        "        b_tgt_attention_mask = batch['tgt_attention_mask'].to(device)\n",
        "\n",
        "        # clear accumulated gradients\n",
        "        optimizer.zero_grad()\n",
        "\n",
        "        # forward pass\n",
        "        outputs = model(input_ids=b_src_input_ids, \n",
        "                        attention_mask=b_src_attention_mask,\n",
        "                        lm_labels=lm_labels,\n",
        "                        decoder_attention_mask=b_tgt_attention_mask)\n",
        "        loss = outputs[0]\n",
        "        train_loss += loss.item()\n",
        "\n",
        "        # backward pass\n",
        "        loss.backward()\n",
        "\n",
        "        # update weights\n",
        "        optimizer.step()\n",
        "        \n",
        "        # update scheduler\n",
        "        scheduler.step()\n",
        "\n",
        "        if step in validate_at_steps:\n",
        "            print(f'-- Step: {step}')\n",
        "            _ = val(model, val_dataloader, criterion)\n",
        "    \n",
        "    avg_train_loss = train_loss / len(train_dataloader)\n",
        "    print('Training loss:', avg_train_loss)"
      ],
      "execution_count": null,
      "outputs": []
    },
    {
      "cell_type": "markdown",
      "metadata": {
        "id": "ApdIReKk7OQJ",
        "papermill": {
          "duration": 0.012178,
          "end_time": "2020-08-24T15:43:22.306357",
          "exception": false,
          "start_time": "2020-08-24T15:43:22.294179",
          "status": "completed"
        },
        "tags": []
      },
      "source": [
        "# Run"
      ]
    },
    {
      "cell_type": "code",
      "metadata": {
        "execution": {
          "iopub.execute_input": "2020-08-24T15:43:22.370410Z",
          "iopub.status.busy": "2020-08-24T15:43:22.369651Z",
          "iopub.status.idle": "2020-08-24T15:43:22.373042Z",
          "shell.execute_reply": "2020-08-24T15:43:22.372379Z"
        },
        "id": "93Qs1xH27FRe",
        "papermill": {
          "duration": 0.029275,
          "end_time": "2020-08-24T15:43:22.373145",
          "exception": false,
          "start_time": "2020-08-24T15:43:22.343870",
          "status": "completed"
        },
        "tags": []
      },
      "source": [
        "def run():\n",
        "    # setting a seed ensures reproducible results.\n",
        "    # seed may affect the performance too.\n",
        "    torch.manual_seed(config.SEED)\n",
        "\n",
        "    criterion = nn.BCEWithLogitsLoss()\n",
        "    \n",
        "    # define the parameters to be optmized -\n",
        "    # - and add regularization\n",
        "    if config.FULL_FINETUNING:\n",
        "        param_optimizer = list(model.named_parameters())\n",
        "        no_decay = [\"bias\", \"LayerNorm.bias\", \"LayerNorm.weight\"]\n",
        "        optimizer_parameters = [\n",
        "            {\n",
        "                \"params\": [\n",
        "                    p for n, p in param_optimizer if not any(nd in n for nd in no_decay)\n",
        "                ],\n",
        "                \"weight_decay\": 0.001,\n",
        "            },\n",
        "            {\n",
        "                \"params\": [\n",
        "                    p for n, p in param_optimizer if any(nd in n for nd in no_decay)\n",
        "                ],\n",
        "                \"weight_decay\": 0.0,\n",
        "            },\n",
        "        ]\n",
        "        optimizer = optim.AdamW(optimizer_parameters, lr=config.LR)\n",
        "\n",
        "    num_training_steps = len(train_dataloader) * config.EPOCHS\n",
        "    scheduler = get_linear_schedule_with_warmup(\n",
        "        optimizer,\n",
        "        num_warmup_steps=0,\n",
        "        num_training_steps=num_training_steps\n",
        "    )\n",
        "\n",
        "    max_val_macro_f1_score = float('-inf')\n",
        "    for epoch in range(config.EPOCHS):\n",
        "        train(model, train_dataloader, val_dataloader, criterion, optimizer, scheduler, epoch)\n",
        "        val_macro_f1_score = val(model, val_dataloader, criterion)\n",
        "\n",
        "        if config.SAVE_BEST_ONLY:\n",
        "            if val_macro_f1_score > max_val_macro_f1_score:\n",
        "                best_model = copy.deepcopy(model)\n",
        "                best_val_macro_f1_score = val_macro_f1_score\n",
        "\n",
        "                model_name = 't5_best_model'\n",
        "                torch.save(best_model.state_dict(), model_name + '.pt')\n",
        "\n",
        "                print(f'--- Best Model. Val loss: {max_val_macro_f1_score} -> {val_macro_f1_score}')\n",
        "                max_val_macro_f1_score = val_macro_f1_score\n",
        "\n",
        "    return best_model, best_val_macro_f1_score"
      ],
      "execution_count": null,
      "outputs": []
    },
    {
      "cell_type": "code",
      "metadata": {
        "execution": {
          "iopub.execute_input": "2020-08-24T15:43:22.404236Z",
          "iopub.status.busy": "2020-08-24T15:43:22.403398Z",
          "iopub.status.idle": "2020-08-24T15:44:02.858445Z",
          "shell.execute_reply": "2020-08-24T15:44:02.859004Z"
        },
        "id": "eW59UrCbF_rz",
        "papermill": {
          "duration": 40.473579,
          "end_time": "2020-08-24T15:44:02.859205",
          "exception": false,
          "start_time": "2020-08-24T15:43:22.385626",
          "status": "completed"
        },
        "tags": []
      },
      "source": [
        "model = T5Model()\n",
        "model.to(device);"
      ],
      "execution_count": null,
      "outputs": []
    },
    {
      "cell_type": "code",
      "metadata": {
        "execution": {
          "iopub.execute_input": "2020-08-24T15:44:02.894686Z",
          "iopub.status.busy": "2020-08-24T15:44:02.893793Z",
          "iopub.status.idle": "2020-08-24T16:07:26.076797Z",
          "shell.execute_reply": "2020-08-24T16:07:26.077561Z"
        },
        "id": "YMwlc6aG7e4I",
        "papermill": {
          "duration": 1403.204813,
          "end_time": "2020-08-24T16:07:26.077766",
          "exception": false,
          "start_time": "2020-08-24T15:44:02.872953",
          "status": "completed"
        },
        "tags": []
      },
      "source": [
        "best_model, best_val_micro_f1_score = run()"
      ],
      "execution_count": null,
      "outputs": []
    },
    {
      "cell_type": "markdown",
      "metadata": {
        "id": "LG6rmwigJ0EJ"
      },
      "source": [
        "# Prediction"
      ]
    },
    {
      "cell_type": "code",
      "metadata": {
        "execution": {
          "iopub.execute_input": "2020-08-24T16:07:26.177752Z",
          "iopub.status.busy": "2020-08-24T16:07:26.177083Z",
          "iopub.status.idle": "2020-08-24T16:07:27.472039Z",
          "shell.execute_reply": "2020-08-24T16:07:27.471009Z"
        },
        "papermill": {
          "duration": 1.32305,
          "end_time": "2020-08-24T16:07:27.472174",
          "exception": false,
          "start_time": "2020-08-24T16:07:26.149124",
          "status": "completed"
        },
        "tags": [],
        "id": "V6YYszUb5-12"
      },
      "source": [
        "test_df = pd.read_csv(project_dir + 'dev.tsv', sep='\\t')\n",
        "dataset_size = len(test_df)\n",
        "test_indices = list(range(dataset_size))\n",
        "\n",
        "test_data = T5Dataset(test_df, test_indices, set_type='test')\n",
        "test_dataloader = DataLoader(test_data, batch_size=config.BATCH_SIZE)"
      ],
      "execution_count": null,
      "outputs": []
    },
    {
      "cell_type": "code",
      "metadata": {
        "execution": {
          "iopub.execute_input": "2020-08-24T16:07:27.514787Z",
          "iopub.status.busy": "2020-08-24T16:07:27.513917Z",
          "iopub.status.idle": "2020-08-24T16:10:29.759631Z",
          "shell.execute_reply": "2020-08-24T16:10:29.759027Z"
        },
        "papermill": {
          "duration": 182.272771,
          "end_time": "2020-08-24T16:10:29.759758",
          "exception": false,
          "start_time": "2020-08-24T16:07:27.486987",
          "status": "completed"
        },
        "tags": [],
        "colab": {
          "base_uri": "https://localhost:8080/",
          "height": 120,
          "referenced_widgets": [
            "b38f46875c604f7cabe8880dc2d1e411",
            "ff504a0ac7f34849909601852bab1ca9",
            "88ffb7558fc04300a02635c281606510",
            "d3081adf66bc4249a49903667dfd7195",
            "ed16431ce8854a57a5692516cf5b461a",
            "4787f308759e4601bb04e36c0137b99a",
            "d9d6540cb47640ad8c1c453ec2e01060",
            "cc0668feae6e4de18f8b0a57e3b4757e"
          ]
        },
        "id": "gfGEypkQ5-13",
        "outputId": "6f145196-5d50-47c5-e0ed-128cceff1149"
      },
      "source": [
        "def predict(model):\n",
        "    val_loss = 0\n",
        "    pred = []\n",
        "    model.eval()\n",
        "    for step, batch in tqdm(enumerate(test_dataloader), total=len(test_dataloader)):\n",
        "        b_src_input_ids = batch['src_input_ids'].to(device)\n",
        "        b_src_attention_mask = batch['src_attention_mask'].to(device)\n",
        "\n",
        "        with torch.no_grad():\n",
        "            # get pred\n",
        "            pred_ids = model.t5_model.generate(\n",
        "                input_ids=b_src_input_ids, \n",
        "                attention_mask=b_src_attention_mask\n",
        "            )\n",
        "            pred_ids = pred_ids.cpu().numpy()\n",
        "            for pred_id in pred_ids:\n",
        "                pred_decoded = config.TOKENIZER.decode(pred_id)\n",
        "                pred.append(pred_decoded)\n",
        "\n",
        "    return pred\n",
        "\n",
        "pred_ohe = predict(model)"
      ],
      "execution_count": null,
      "outputs": [
        {
          "output_type": "display_data",
          "data": {
            "application/vnd.jupyter.widget-view+json": {
              "model_id": "b38f46875c604f7cabe8880dc2d1e411",
              "version_minor": 0,
              "version_major": 2
            },
            "text/plain": [
              "HBox(children=(FloatProgress(value=0.0, max=34.0), HTML(value='')))"
            ]
          },
          "metadata": {
            "tags": []
          }
        },
        {
          "output_type": "stream",
          "text": [
            "/usr/local/lib/python3.6/dist-packages/transformers/tokenization_utils_base.py:2155: FutureWarning: The `pad_to_max_length` argument is deprecated and will be removed in a future version, use `padding=True` or `padding='longest'` to pad to the longest sequence in the batch, or use `padding='max_length'` to pad to a max length. In this case, you can give a specific length with `max_length` (e.g. `max_length=45`) or leave max_length to None to pad to the maximal input size of the model (e.g. 512 for Bert).\n",
            "  FutureWarning,\n"
          ],
          "name": "stderr"
        },
        {
          "output_type": "stream",
          "text": [
            "\n"
          ],
          "name": "stdout"
        }
      ]
    },
    {
      "cell_type": "code",
      "metadata": {
        "colab": {
          "base_uri": "https://localhost:8080/",
          "height": 35
        },
        "id": "AsDKQxmQ98B1",
        "outputId": "25435dfd-03f5-4e0c-a0c8-6e7f7c5e53b0"
      },
      "source": [
        "pred_ohe[0]"
      ],
      "execution_count": null,
      "outputs": [
        {
          "output_type": "execute_result",
          "data": {
            "application/vnd.google.colaboratory.intrinsic+json": {
              "type": "string"
            },
            "text/plain": [
              "'<pad> sadness</s>'"
            ]
          },
          "metadata": {
            "tags": []
          },
          "execution_count": 24
        }
      ]
    },
    {
      "cell_type": "code",
      "metadata": {
        "colab": {
          "base_uri": "https://localhost:8080/",
          "height": 35
        },
        "id": "N2lu-wjL5-14",
        "outputId": "f69e9285-f27f-4005-e59a-043369b40edc"
      },
      "source": [
        "pred_ohe[0].split('<pad> ')[1].split(\"</s>\")[0]"
      ],
      "execution_count": null,
      "outputs": [
        {
          "output_type": "execute_result",
          "data": {
            "application/vnd.google.colaboratory.intrinsic+json": {
              "type": "string"
            },
            "text/plain": [
              "'sadness'"
            ]
          },
          "metadata": {
            "tags": []
          },
          "execution_count": 25
        }
      ]
    },
    {
      "cell_type": "code",
      "metadata": {
        "id": "laODJ3hJ5-16"
      },
      "source": [
        "ans = get_ohe(pred_ohe)"
      ],
      "execution_count": null,
      "outputs": []
    },
    {
      "cell_type": "code",
      "metadata": {
        "id": "gzrgUcV0xH2b"
      },
      "source": [
        "df = pd.read_csv(project_dir + 'ground.tsv', sep='\\t', names=[\"empathy\", \"distress\", 'emotion'])"
      ],
      "execution_count": null,
      "outputs": []
    },
    {
      "cell_type": "code",
      "metadata": {
        "colab": {
          "base_uri": "https://localhost:8080/"
        },
        "id": "27t4IAtgihBy",
        "outputId": "a335622c-00a5-4fe7-fb95-39d76635b091"
      },
      "source": [
        "from sklearn.preprocessing import LabelEncoder as LE\r\n",
        "from sklearn.metrics import f1_score\r\n",
        "le = LE()\r\n",
        "le.fit(train_df['emotion']) "
      ],
      "execution_count": null,
      "outputs": [
        {
          "output_type": "execute_result",
          "data": {
            "text/plain": [
              "LabelEncoder()"
            ]
          },
          "metadata": {
            "tags": []
          },
          "execution_count": 35
        }
      ]
    },
    {
      "cell_type": "code",
      "metadata": {
        "id": "Bf1TDGoNiaau"
      },
      "source": [
        "from sklearn.metrics import f1_score\r\n",
        "def f1_score_calc(pred):\r\n",
        "  y_true = le.transform(df['emotion'])\r\n",
        "  y_pred = le.transform(pred)\r\n",
        "  return f1_score(y_true, y_pred, average='macro')\r\n"
      ],
      "execution_count": null,
      "outputs": []
    },
    {
      "cell_type": "code",
      "metadata": {
        "colab": {
          "base_uri": "https://localhost:8080/"
        },
        "id": "tkQUo6GB34nU",
        "outputId": "bc6f5ea6-3b33-4a20-c395-9e20feb34ef8"
      },
      "source": [
        "f1_score_calc(ans)"
      ],
      "execution_count": null,
      "outputs": [
        {
          "output_type": "execute_result",
          "data": {
            "text/plain": [
              "0.5722085171064764"
            ]
          },
          "metadata": {
            "tags": []
          },
          "execution_count": 38
        }
      ]
    },
    {
      "cell_type": "markdown",
      "metadata": {
        "id": "4nfT_foB9-yr",
        "papermill": {
          "duration": 0.014363,
          "end_time": "2020-08-24T16:07:26.106805",
          "exception": false,
          "start_time": "2020-08-24T16:07:26.092442",
          "status": "completed"
        },
        "tags": []
      },
      "source": [
        "# Submission"
      ]
    },
    {
      "cell_type": "code",
      "metadata": {
        "execution": {
          "iopub.execute_input": "2020-08-24T16:07:26.177752Z",
          "iopub.status.busy": "2020-08-24T16:07:26.177083Z",
          "iopub.status.idle": "2020-08-24T16:07:27.472039Z",
          "shell.execute_reply": "2020-08-24T16:07:27.471009Z"
        },
        "id": "b6kixnQZGh0h",
        "papermill": {
          "duration": 1.32305,
          "end_time": "2020-08-24T16:07:27.472174",
          "exception": false,
          "start_time": "2020-08-24T16:07:26.149124",
          "status": "completed"
        },
        "tags": []
      },
      "source": [
        "test_df = pd.read_csv(project_dir + 'test.tsv', sep='\\t')\n",
        "dataset_size = len(test_df)\n",
        "test_indices = list(range(dataset_size))\n",
        "\n",
        "test_data = T5Dataset(test_df, test_indices, set_type='test')\n",
        "test_dataloader = DataLoader(test_data, batch_size=config.BATCH_SIZE)"
      ],
      "execution_count": null,
      "outputs": []
    },
    {
      "cell_type": "code",
      "metadata": {
        "execution": {
          "iopub.execute_input": "2020-08-24T16:07:27.514787Z",
          "iopub.status.busy": "2020-08-24T16:07:27.513917Z",
          "iopub.status.idle": "2020-08-24T16:10:29.759631Z",
          "shell.execute_reply": "2020-08-24T16:10:29.759027Z"
        },
        "id": "JI-MUk0i-FHH",
        "papermill": {
          "duration": 182.272771,
          "end_time": "2020-08-24T16:10:29.759758",
          "exception": false,
          "start_time": "2020-08-24T16:07:27.486987",
          "status": "completed"
        },
        "tags": [],
        "colab": {
          "base_uri": "https://localhost:8080/",
          "height": 120,
          "referenced_widgets": [
            "a79c820783bf4ed292a421a4121125a3",
            "f2393d97e2424942bbc7cc3ef12bf9d1",
            "bad90ae0cfac4ff7acd496c8a2fbcd23",
            "348a9adf52054c429a79a3eb71ca7d5b",
            "8beff873d4ea48f7b37df8b63bafe35d",
            "086aa1f16ba64afaab4ed9ace3ea69b0",
            "f79a030d7b2a47e7845af22822630014",
            "4b1da11641b0455e9ad0842566d31984"
          ]
        },
        "outputId": "3d0486e4-4fc4-4218-c2fc-8511be925ee1"
      },
      "source": [
        "def predict(model):\n",
        "    val_loss = 0\n",
        "    pred = []\n",
        "    model.eval()\n",
        "    for step, batch in tqdm(enumerate(test_dataloader), total=len(test_dataloader)):\n",
        "        b_src_input_ids = batch['src_input_ids'].to(device)\n",
        "        b_src_attention_mask = batch['src_attention_mask'].to(device)\n",
        "\n",
        "        with torch.no_grad():\n",
        "            # get pred\n",
        "            pred_ids = model.t5_model.generate(\n",
        "                input_ids=b_src_input_ids, \n",
        "                attention_mask=b_src_attention_mask\n",
        "            )\n",
        "            pred_ids = pred_ids.cpu().numpy()\n",
        "            for pred_id in pred_ids:\n",
        "                pred_decoded = config.TOKENIZER.decode(pred_id)\n",
        "                pred.append(pred_decoded)\n",
        "\n",
        "    return pred\n",
        "\n",
        "pred_ohe = predict(model)"
      ],
      "execution_count": null,
      "outputs": [
        {
          "output_type": "display_data",
          "data": {
            "application/vnd.jupyter.widget-view+json": {
              "model_id": "a79c820783bf4ed292a421a4121125a3",
              "version_minor": 0,
              "version_major": 2
            },
            "text/plain": [
              "HBox(children=(FloatProgress(value=0.0, max=66.0), HTML(value='')))"
            ]
          },
          "metadata": {
            "tags": []
          }
        },
        {
          "output_type": "stream",
          "text": [
            "/usr/local/lib/python3.6/dist-packages/transformers/tokenization_utils_base.py:2155: FutureWarning: The `pad_to_max_length` argument is deprecated and will be removed in a future version, use `padding=True` or `padding='longest'` to pad to the longest sequence in the batch, or use `padding='max_length'` to pad to a max length. In this case, you can give a specific length with `max_length` (e.g. `max_length=45`) or leave max_length to None to pad to the maximal input size of the model (e.g. 512 for Bert).\n",
            "  FutureWarning,\n"
          ],
          "name": "stderr"
        },
        {
          "output_type": "stream",
          "text": [
            "\n"
          ],
          "name": "stdout"
        }
      ]
    },
    {
      "cell_type": "code",
      "metadata": {
        "id": "fpiPch6HRbTi"
      },
      "source": [
        "ans = get_ohe(pred_ohe)"
      ],
      "execution_count": null,
      "outputs": []
    },
    {
      "cell_type": "code",
      "metadata": {
        "execution": {
          "iopub.execute_input": "2020-08-24T16:10:30.314618Z",
          "iopub.status.busy": "2020-08-24T16:10:30.304244Z",
          "iopub.status.idle": "2020-08-24T16:10:30.333608Z",
          "shell.execute_reply": "2020-08-24T16:10:30.332991Z"
        },
        "id": "bS_suOKxERTd",
        "papermill": {
          "duration": 0.051176,
          "end_time": "2020-08-24T16:10:30.333751",
          "exception": false,
          "start_time": "2020-08-24T16:10:30.282575",
          "status": "completed"
        },
        "tags": []
      },
      "source": [
        "test_sub = pd.DataFrame({'ds':ans})\n",
        "test_ans = test_sub.to_csv(\"./predictions_EMO.tsv\",sep='\\t',index=False,header=None)"
      ],
      "execution_count": null,
      "outputs": []
    }
  ]
}